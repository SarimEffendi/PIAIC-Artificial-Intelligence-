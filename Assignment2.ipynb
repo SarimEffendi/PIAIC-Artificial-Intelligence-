{
  "cells": [
    {
      "cell_type": "markdown",
      "metadata": {
        "id": "0i4KXhKDZlDV"
      },
      "source": [
        "#Assignment 2: Class 13_AIC\n",
        "\n",
        "Muhammad Sarim Effendi\n",
        "\n",
        "PIAIC188720\n",
        "\n",
        "Batch 36 - Online"
      ]
    },
    {
      "cell_type": "markdown",
      "metadata": {
        "id": "ej4rSqv9mSN1"
      },
      "source": [
        "## TASK 1\n",
        "1. import mother and father attribute\n",
        "2. add two new attributes in the child constructor\n"
      ]
    },
    {
      "cell_type": "code",
      "execution_count": 32,
      "metadata": {
        "id": "ZkcR1N3dZvv2"
      },
      "outputs": [],
      "source": [
        "class Father:\n",
        "    \n",
        "  def __init__ (self, first_name, last_name):\n",
        "    self.first_name = first_name\n",
        "    self.last_name = last_name\n",
        "    self.job = None\n",
        "    self.skinTone = None\n",
        "\n",
        "  def setJob (self, job):\n",
        "    self.job = job\n",
        "\n",
        "  def setSkinTone (self, skinTone):\n",
        "    self.skinTone = skinTone\n",
        "\n",
        "  def __str__ (self):\n",
        "    return f\"First name: {self.first_name} , Last name: {self.last_name} , Job: {self.job} , Skin Tone: {self.skinTone}\"\n"
      ]
    },
    {
      "cell_type": "code",
      "execution_count": 33,
      "metadata": {
        "id": "SVBr_XufelCf"
      },
      "outputs": [],
      "source": [
        "class Mother:\n",
        "\n",
        "  def __init__ (self):\n",
        "    self.isHouseWife = False\n",
        "    self.nationality = None\n",
        "\n",
        "  def setIsHouseWife (self, isHouseWife):\n",
        "    self.isHouseWife = isHouseWife\n",
        "\n",
        "  def setNationality (self, nationality):\n",
        "    self.nationality = nationality\n",
        "\n",
        "  def __str__ (self):\n",
        "    return f\"House Wife: {self.isHouseWife} , nationality is: {self.nationality}\"\n"
      ]
    },
    {
      "cell_type": "code",
      "execution_count": 34,
      "metadata": {
        "id": "VCNxtcNafg2j"
      },
      "outputs": [],
      "source": [
        "class Child(Father, Mother):\n",
        "\n",
        "  def __init__ (self, name):\n",
        "    self.name = name\n",
        "    self.qualification = None\n",
        "    self.age = None\n",
        "\n",
        "  def setQualification (self, qualification):\n",
        "    self.qualification = qualification\n",
        "\n",
        "  def setAge (self, age):\n",
        "    self.age = age\n",
        "\n",
        "  def __str__ (self):\n",
        "    return f\"Child Name: {self.name} \\nChild Age: {self.age} \\nChild Qualification: {self.qualification}\"  \n"
      ]
    },
    {
      "cell_type": "code",
      "execution_count": 35,
      "metadata": {
        "colab": {
          "base_uri": "https://localhost:8080/"
        },
        "id": "GxeDUBvShnHa",
        "outputId": "5b2a634d-6266-44dd-ebf6-5299d21cc429"
      },
      "outputs": [
        {
          "name": "stdout",
          "output_type": "stream",
          "text": [
            "['first_name', 'job', 'last_name', 'setJob', 'setSkinTone', 'skinTone']\n",
            "First name: Farhad , Last name: Munawer , Job: Banker , Skin Tone: Fair\n"
          ]
        }
      ],
      "source": [
        "father = Father('Farhad', 'Munawer')\n",
        "print([i for i in dir(father) if \"__\" not in i])\n",
        "father.setJob('Banker')\n",
        "father.setSkinTone('Fair')\n",
        "print(father)"
      ]
    },
    {
      "cell_type": "code",
      "execution_count": 36,
      "metadata": {
        "colab": {
          "base_uri": "https://localhost:8080/"
        },
        "id": "7zPahHZ_h68A",
        "outputId": "e680a0fe-19e6-46f3-d319-1ba3da2dcc0d"
      },
      "outputs": [
        {
          "name": "stdout",
          "output_type": "stream",
          "text": [
            "['isHouseWife', 'nationality', 'setIsHouseWife', 'setNationality']\n",
            "House Wife: True , nationality is: Pakistani\n"
          ]
        }
      ],
      "source": [
        "mother = Mother()\n",
        "print([i for i in dir(mother) if \"__\" not in i])\n",
        "mother.setIsHouseWife(True)\n",
        "mother.setNationality('Pakistani')\n",
        "print(mother)"
      ]
    },
    {
      "cell_type": "code",
      "execution_count": 37,
      "metadata": {
        "colab": {
          "base_uri": "https://localhost:8080/"
        },
        "id": "kjeS9V5bhXAC",
        "outputId": "7ff21c60-8ff0-4566-c12b-16546bf75c08"
      },
      "outputs": [
        {
          "name": "stdout",
          "output_type": "stream",
          "text": [
            "['age', 'name', 'qualification', 'setAge', 'setIsHouseWife', 'setJob', 'setNationality', 'setQualification', 'setSkinTone']\n",
            "Child Name: Muhammad Sarim \n",
            "Child Age: 20 \n",
            "Child Qualification: undergraduate\n"
          ]
        }
      ],
      "source": [
        "child = Child('Muhammad Sarim')\n",
        "print([i for i in dir(child) if \"__\" not in i])\n",
        "child.setQualification(\"undergraduate\")\n",
        "child.setAge(\"20\")\n",
        "print(child)"
      ]
    },
    {
      "cell_type": "markdown",
      "metadata": {
        "id": "2bQVTQbkmXIr"
      },
      "source": [
        "##TASK 2\n",
        "Create operator overloading"
      ]
    },
    {
      "cell_type": "code",
      "execution_count": 39,
      "metadata": {
        "colab": {
          "base_uri": "https://localhost:8080/"
        },
        "id": "dI9877Wpmg8g",
        "outputId": "6360791c-8d11-495e-81af-764202d099a8"
      },
      "outputs": [
        {
          "name": "stdout",
          "output_type": "stream",
          "text": [
            "9 goals scored\n"
          ]
        }
      ],
      "source": [
        "class FootBall:\n",
        "\n",
        "  def __init__ (self, goals):\n",
        "    self.goals = goals\n",
        "\n",
        "  def __add__ (self, secondHalfGoals):\n",
        "    return self.goals + secondHalfGoals.goals\n",
        "  \n",
        "  def __str__ (self):\n",
        "    return f\"Goals in first half: {self.goals} \\nGoals in second half: {self.secondHalfGoals.goals}\"\n",
        "    \n",
        "h1 = FootBall(5)\n",
        "h2 = FootBall(4)\n",
        "print(h1+h2,\"goals scored\")"
      ]
    }
  ],
  "metadata": {
    "colab": {
      "collapsed_sections": [],
      "provenance": []
    },
    "kernelspec": {
      "display_name": "Python 3.10.5 64-bit",
      "language": "python",
      "name": "python3"
    },
    "language_info": {
      "codemirror_mode": {
        "name": "ipython",
        "version": 3
      },
      "file_extension": ".py",
      "mimetype": "text/x-python",
      "name": "python",
      "nbconvert_exporter": "python",
      "pygments_lexer": "ipython3",
      "version": "3.10.5"
    },
    "vscode": {
      "interpreter": {
        "hash": "bd5013639eaf88cfe015cc0227435dfde9386a01bc92ff8c5f27f00471ba3a05"
      }
    }
  },
  "nbformat": 4,
  "nbformat_minor": 0
}
