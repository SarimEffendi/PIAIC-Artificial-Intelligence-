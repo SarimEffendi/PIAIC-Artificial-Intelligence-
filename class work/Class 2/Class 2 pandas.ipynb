{
 "cells": [
  {
   "cell_type": "code",
   "execution_count": 1,
   "id": "a82ec2e4",
   "metadata": {},
   "outputs": [],
   "source": [
    "import numpy as np"
   ]
  },
  {
   "cell_type": "code",
   "execution_count": 2,
   "id": "bddc8dab",
   "metadata": {},
   "outputs": [],
   "source": [
    "#where method"
   ]
  },
  {
   "cell_type": "code",
   "execution_count": 3,
   "id": "b5dbed2f",
   "metadata": {},
   "outputs": [],
   "source": [
    "marks = np.array([50,56,32,67,54,99,76])"
   ]
  },
  {
   "cell_type": "code",
   "execution_count": 5,
   "id": "41250368",
   "metadata": {},
   "outputs": [
    {
     "data": {
      "text/plain": [
       "array([' fail', 'pass', ' fail', 'pass', 'pass', 'pass', 'pass'],\n",
       "      dtype='<U5')"
      ]
     },
     "execution_count": 5,
     "metadata": {},
     "output_type": "execute_result"
    }
   ],
   "source": [
    "np.where(marks >50, \"pass\" , \" fail\")#works as if else if marks greater than 50 then pass else fail"
   ]
  },
  {
   "cell_type": "code",
   "execution_count": 6,
   "id": "0d85edbe",
   "metadata": {},
   "outputs": [],
   "source": [
    "salary = np.array([10, 70, 80 ,90 ,45])"
   ]
  },
  {
   "cell_type": "code",
   "execution_count": 8,
   "id": "2d3ca703",
   "metadata": {},
   "outputs": [
    {
     "data": {
      "text/plain": [
       "array([11. , 73.5, 84. , 94.5, 49.5])"
      ]
     },
     "execution_count": 8,
     "metadata": {},
     "output_type": "execute_result"
    }
   ],
   "source": [
    "np.where(salary<50, salary * 1.1 , salary * 1.05)# increasing the salary using the where method"
   ]
  },
  {
   "cell_type": "code",
   "execution_count": 11,
   "id": "dc806c8d",
   "metadata": {},
   "outputs": [],
   "source": [
    "arr = np.arange(1,101).reshape((10,10))"
   ]
  },
  {
   "cell_type": "code",
   "execution_count": 12,
   "id": "dca5ccca",
   "metadata": {},
   "outputs": [
    {
     "data": {
      "text/plain": [
       "array([[  1,   2,   3,   4,   5,   6,   7,   8,   9,  10],\n",
       "       [ 11,  12,  13,  14,  15,  16,  17,  18,  19,  20],\n",
       "       [ 21,  22,  23,  24,  25,  26,  27,  28,  29,  30],\n",
       "       [ 31,  32,  33,  34,  35,  36,  37,  38,  39,  40],\n",
       "       [ 41,  42,  43,  44,  45,  46,  47,  48,  49,  50],\n",
       "       [ 51,  52,  53,  54,  55,  56,  57,  58,  59,  60],\n",
       "       [ 61,  62,  63,  64,  65,  66,  67,  68,  69,  70],\n",
       "       [ 71,  72,  73,  74,  75,  76,  77,  78,  79,  80],\n",
       "       [ 81,  82,  83,  84,  85,  86,  87,  88,  89,  90],\n",
       "       [ 91,  92,  93,  94,  95,  96,  97,  98,  99, 100]])"
      ]
     },
     "execution_count": 12,
     "metadata": {},
     "output_type": "execute_result"
    }
   ],
   "source": [
    "arr"
   ]
  },
  {
   "cell_type": "code",
   "execution_count": 14,
   "id": "577939aa",
   "metadata": {},
   "outputs": [
    {
     "data": {
      "text/plain": [
       "array([[  1,  11,  21,  31,  41,  51,  61,  71,  81,  91],\n",
       "       [  2,  12,  22,  32,  42,  52,  62,  72,  82,  92],\n",
       "       [  3,  13,  23,  33,  43,  53,  63,  73,  83,  93],\n",
       "       [  4,  14,  24,  34,  44,  54,  64,  74,  84,  94],\n",
       "       [  5,  15,  25,  35,  45,  55,  65,  75,  85,  95],\n",
       "       [  6,  16,  26,  36,  46,  56,  66,  76,  86,  96],\n",
       "       [  7,  17,  27,  37,  47,  57,  67,  77,  87,  97],\n",
       "       [  8,  18,  28,  38,  48,  58,  68,  78,  88,  98],\n",
       "       [  9,  19,  29,  39,  49,  59,  69,  79,  89,  99],\n",
       "       [ 10,  20,  30,  40,  50,  60,  70,  80,  90, 100]])"
      ]
     },
     "execution_count": 14,
     "metadata": {},
     "output_type": "execute_result"
    }
   ],
   "source": [
    "arr.T # transpose of a matrix"
   ]
  },
  {
   "cell_type": "code",
   "execution_count": 17,
   "id": "bfe3093b",
   "metadata": {},
   "outputs": [
    {
     "data": {
      "text/plain": [
       "array([[  1,  11,  21,  31,  41,  51,  61,  71,  81,  91],\n",
       "       [  2,  12,  22,  32,  42,  52,  62,  72,  82,  92],\n",
       "       [  3,  13,  23,  33,  43,  53,  63,  73,  83,  93],\n",
       "       [  4,  14,  24,  34,  44,  54,  64,  74,  84,  94],\n",
       "       [  5,  15,  25,  35,  45,  55,  65,  75,  85,  95],\n",
       "       [  6,  16,  26,  36,  46,  56,  66,  76,  86,  96],\n",
       "       [  7,  17,  27,  37,  47,  57,  67,  77,  87,  97],\n",
       "       [  8,  18,  28,  38,  48,  58,  68,  78,  88,  98],\n",
       "       [  9,  19,  29,  39,  49,  59,  69,  79,  89,  99],\n",
       "       [ 10,  20,  30,  40,  50,  60,  70,  80,  90, 100]])"
      ]
     },
     "execution_count": 17,
     "metadata": {},
     "output_type": "execute_result"
    }
   ],
   "source": [
    "arr.transpose() #transpose using transpose method"
   ]
  },
  {
   "cell_type": "code",
   "execution_count": 18,
   "id": "07e63f7a",
   "metadata": {},
   "outputs": [],
   "source": [
    "array = np.array([1,3,5,6,7,10])"
   ]
  },
  {
   "cell_type": "code",
   "execution_count": 19,
   "id": "f6d659bd",
   "metadata": {},
   "outputs": [
    {
     "data": {
      "text/plain": [
       "5.333333333333333"
      ]
     },
     "execution_count": 19,
     "metadata": {},
     "output_type": "execute_result"
    }
   ],
   "source": [
    "array.mean()"
   ]
  },
  {
   "cell_type": "code",
   "execution_count": 20,
   "id": "bfafb83c",
   "metadata": {},
   "outputs": [
    {
     "data": {
      "text/plain": [
       "array([ 1,  4,  9, 15, 22, 32], dtype=int32)"
      ]
     },
     "execution_count": 20,
     "metadata": {},
     "output_type": "execute_result"
    }
   ],
   "source": [
    "array.cumsum()#cumulative sum"
   ]
  },
  {
   "cell_type": "code",
   "execution_count": 22,
   "id": "164cded3",
   "metadata": {},
   "outputs": [
    {
     "data": {
      "text/plain": [
       "array([   1,    3,   15,   90,  630, 6300], dtype=int32)"
      ]
     },
     "execution_count": 22,
     "metadata": {},
     "output_type": "execute_result"
    }
   ],
   "source": [
    "array.cumprod()#cumulative product"
   ]
  },
  {
   "cell_type": "code",
   "execution_count": 23,
   "id": "befcd680",
   "metadata": {},
   "outputs": [],
   "source": [
    "#methods for boolean arrays"
   ]
  },
  {
   "cell_type": "code",
   "execution_count": 24,
   "id": "9033646d",
   "metadata": {},
   "outputs": [],
   "source": [
    "gender = np.array(['Male','Female','Male','Female','Male','Male'])"
   ]
  },
  {
   "cell_type": "code",
   "execution_count": 26,
   "id": "4d9f5fe4",
   "metadata": {},
   "outputs": [
    {
     "data": {
      "text/plain": [
       "array([ True, False,  True, False,  True,  True])"
      ]
     },
     "execution_count": 26,
     "metadata": {},
     "output_type": "execute_result"
    }
   ],
   "source": [
    "arr = gender == 'Male'\n",
    "arr"
   ]
  },
  {
   "cell_type": "code",
   "execution_count": 28,
   "id": "9b62b4a3",
   "metadata": {},
   "outputs": [
    {
     "data": {
      "text/plain": [
       "4"
      ]
     },
     "execution_count": 28,
     "metadata": {},
     "output_type": "execute_result"
    }
   ],
   "source": [
    "arr.sum()#total no of males in array"
   ]
  },
  {
   "cell_type": "code",
   "execution_count": 31,
   "id": "63fc41c8",
   "metadata": {},
   "outputs": [
    {
     "data": {
      "text/plain": [
       "True"
      ]
     },
     "execution_count": 31,
     "metadata": {},
     "output_type": "execute_result"
    }
   ],
   "source": [
    "arr = gender == 'Female'\n",
    "arr.any()#any checks if the value is present or not"
   ]
  },
  {
   "cell_type": "code",
   "execution_count": 33,
   "id": "ade88046",
   "metadata": {},
   "outputs": [
    {
     "data": {
      "text/plain": [
       "False"
      ]
     },
     "execution_count": 33,
     "metadata": {},
     "output_type": "execute_result"
    }
   ],
   "source": [
    "arr.all()# checks if all the values are 'female' or not"
   ]
  },
  {
   "cell_type": "code",
   "execution_count": 34,
   "id": "95dd92f9",
   "metadata": {},
   "outputs": [],
   "source": [
    "arr =  np.array([2,4,6,8,10,12])"
   ]
  },
  {
   "cell_type": "code",
   "execution_count": 35,
   "id": "b81aca02",
   "metadata": {},
   "outputs": [],
   "source": [
    "x = arr % 2 == 0"
   ]
  },
  {
   "cell_type": "code",
   "execution_count": 36,
   "id": "2307c821",
   "metadata": {},
   "outputs": [
    {
     "data": {
      "text/plain": [
       "True"
      ]
     },
     "execution_count": 36,
     "metadata": {},
     "output_type": "execute_result"
    }
   ],
   "source": [
    "x.all()"
   ]
  },
  {
   "cell_type": "code",
   "execution_count": 37,
   "id": "3b94de46",
   "metadata": {},
   "outputs": [
    {
     "data": {
      "text/plain": [
       "array([ 2,  4,  6,  8, 10, 12])"
      ]
     },
     "execution_count": 37,
     "metadata": {},
     "output_type": "execute_result"
    }
   ],
   "source": [
    "arr"
   ]
  },
  {
   "cell_type": "code",
   "execution_count": 47,
   "id": "6a37aa18",
   "metadata": {},
   "outputs": [],
   "source": [
    "arr = np.array([9,34,5,73,24,6,7,2,3,5,4])"
   ]
  },
  {
   "cell_type": "code",
   "execution_count": 48,
   "id": "09f7b8c5",
   "metadata": {},
   "outputs": [],
   "source": [
    "arr.sort() #inplace sorting"
   ]
  },
  {
   "cell_type": "code",
   "execution_count": 49,
   "id": "addc7d06",
   "metadata": {},
   "outputs": [
    {
     "data": {
      "text/plain": [
       "array([ 2,  3,  4,  5,  5,  6,  7,  9, 24, 34, 73])"
      ]
     },
     "execution_count": 49,
     "metadata": {},
     "output_type": "execute_result"
    }
   ],
   "source": [
    "arr"
   ]
  },
  {
   "cell_type": "code",
   "execution_count": 50,
   "id": "fc62544b",
   "metadata": {},
   "outputs": [
    {
     "data": {
      "text/plain": [
       "array([73, 34, 24,  9,  7,  6,  5,  5,  4,  3,  2])"
      ]
     },
     "execution_count": 50,
     "metadata": {},
     "output_type": "execute_result"
    }
   ],
   "source": [
    "arr[::-1]#sorting in reverse order"
   ]
  },
  {
   "cell_type": "code",
   "execution_count": 53,
   "id": "36425f27",
   "metadata": {},
   "outputs": [],
   "source": [
    "arr = np.array([11,11,23,34,23,55,4,3,21,21])"
   ]
  },
  {
   "cell_type": "code",
   "execution_count": 55,
   "id": "d57504c4",
   "metadata": {},
   "outputs": [
    {
     "data": {
      "text/plain": [
       "array([ 3,  4, 11, 21, 23, 34, 55])"
      ]
     },
     "execution_count": 55,
     "metadata": {},
     "output_type": "execute_result"
    }
   ],
   "source": [
    "np.unique(arr)# prints only single occurence of each element"
   ]
  },
  {
   "cell_type": "code",
   "execution_count": 56,
   "id": "b44dc9c3",
   "metadata": {},
   "outputs": [],
   "source": [
    "#file input output"
   ]
  },
  {
   "cell_type": "code",
   "execution_count": 57,
   "id": "e0532658",
   "metadata": {},
   "outputs": [],
   "source": [
    "array = np.array([10,20,30,40,50,60,70,80])"
   ]
  },
  {
   "cell_type": "code",
   "execution_count": 61,
   "id": "df07be07",
   "metadata": {},
   "outputs": [],
   "source": [
    "np.save('data',array)#saving the array in a file named \"data\""
   ]
  },
  {
   "cell_type": "code",
   "execution_count": 62,
   "id": "d59c9b28",
   "metadata": {},
   "outputs": [],
   "source": [
    "content = np.load('data.npy')#loading the data of that file"
   ]
  },
  {
   "cell_type": "code",
   "execution_count": 60,
   "id": "a22b6c12",
   "metadata": {},
   "outputs": [
    {
     "data": {
      "text/plain": [
       "array([10, 20, 30, 40, 50, 60, 70, 80])"
      ]
     },
     "execution_count": 60,
     "metadata": {},
     "output_type": "execute_result"
    }
   ],
   "source": [
    "content"
   ]
  },
  {
   "cell_type": "code",
   "execution_count": 63,
   "id": "43f8e712",
   "metadata": {},
   "outputs": [],
   "source": [
    "#saving multiple arrays"
   ]
  },
  {
   "cell_type": "code",
   "execution_count": 65,
   "id": "0f957664",
   "metadata": {},
   "outputs": [],
   "source": [
    "students =  np.array(['Ali','Sarim','Ahmed','Moosa','Bilal'])\n",
    "marks = np.array([97,93,91,70,76])"
   ]
  },
  {
   "cell_type": "code",
   "execution_count": 75,
   "id": "75e80a0e",
   "metadata": {},
   "outputs": [],
   "source": [
    "np.savez('arrays',std=students,m=marks)#savez is used for saving multiple arrays into a file"
   ]
  },
  {
   "cell_type": "code",
   "execution_count": 76,
   "id": "4d1925e1",
   "metadata": {},
   "outputs": [],
   "source": [
    "results = np.load('arrays.npz')"
   ]
  },
  {
   "cell_type": "code",
   "execution_count": 77,
   "id": "eda8e68c",
   "metadata": {},
   "outputs": [
    {
     "data": {
      "text/plain": [
       "array(['Ali', 'Sarim', 'Ahmed', 'Moosa', 'Bilal'], dtype='<U5')"
      ]
     },
     "execution_count": 77,
     "metadata": {},
     "output_type": "execute_result"
    }
   ],
   "source": [
    "results['std']"
   ]
  },
  {
   "cell_type": "code",
   "execution_count": 78,
   "id": "220a7b91",
   "metadata": {},
   "outputs": [
    {
     "data": {
      "text/plain": [
       "array([97, 93, 91, 70, 76])"
      ]
     },
     "execution_count": 78,
     "metadata": {},
     "output_type": "execute_result"
    }
   ],
   "source": [
    "results['m']"
   ]
  },
  {
   "cell_type": "code",
   "execution_count": null,
   "id": "fe0697a0",
   "metadata": {},
   "outputs": [],
   "source": [
    "#linear algebra operations"
   ]
  },
  {
   "cell_type": "code",
   "execution_count": 79,
   "id": "4f174731",
   "metadata": {},
   "outputs": [],
   "source": [
    "arr = np.arange(16).reshape(4,4)"
   ]
  },
  {
   "cell_type": "code",
   "execution_count": 80,
   "id": "5ca1ec17",
   "metadata": {},
   "outputs": [
    {
     "data": {
      "text/plain": [
       "array([[ 0,  1,  2,  3],\n",
       "       [ 4,  5,  6,  7],\n",
       "       [ 8,  9, 10, 11],\n",
       "       [12, 13, 14, 15]])"
      ]
     },
     "execution_count": 80,
     "metadata": {},
     "output_type": "execute_result"
    }
   ],
   "source": [
    "arr"
   ]
  },
  {
   "cell_type": "code",
   "execution_count": 85,
   "id": "48674bed",
   "metadata": {},
   "outputs": [
    {
     "data": {
      "text/plain": [
       "array([ 0,  5, 10, 15])"
      ]
     },
     "execution_count": 85,
     "metadata": {},
     "output_type": "execute_result"
    }
   ],
   "source": [
    "arr.diagonal()"
   ]
  },
  {
   "cell_type": "code",
   "execution_count": null,
   "id": "5369f90a",
   "metadata": {},
   "outputs": [],
   "source": []
  }
 ],
 "metadata": {
  "kernelspec": {
   "display_name": "Python 3 (ipykernel)",
   "language": "python",
   "name": "python3"
  },
  "language_info": {
   "codemirror_mode": {
    "name": "ipython",
    "version": 3
   },
   "file_extension": ".py",
   "mimetype": "text/x-python",
   "name": "python",
   "nbconvert_exporter": "python",
   "pygments_lexer": "ipython3",
   "version": "3.9.13"
  }
 },
 "nbformat": 4,
 "nbformat_minor": 5
}
