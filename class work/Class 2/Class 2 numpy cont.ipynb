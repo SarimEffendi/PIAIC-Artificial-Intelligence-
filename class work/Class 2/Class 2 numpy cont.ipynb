{
 "cells": [
  {
   "cell_type": "code",
   "execution_count": 5,
   "id": "a82ec2e4",
   "metadata": {},
   "outputs": [],
   "source": [
    "import numpy as np"
   ]
  },
  {
   "cell_type": "code",
   "execution_count": 2,
   "id": "bddc8dab",
   "metadata": {},
   "outputs": [],
   "source": [
    "#where method"
   ]
  },
  {
   "cell_type": "code",
   "execution_count": 3,
   "id": "b5dbed2f",
   "metadata": {},
   "outputs": [],
   "source": [
    "marks = np.array([50,56,32,67,54,99,76])"
   ]
  },
  {
   "cell_type": "code",
   "execution_count": 5,
   "id": "41250368",
   "metadata": {},
   "outputs": [
    {
     "data": {
      "text/plain": [
       "array([' fail', 'pass', ' fail', 'pass', 'pass', 'pass', 'pass'],\n",
       "      dtype='<U5')"
      ]
     },
     "execution_count": 5,
     "metadata": {},
     "output_type": "execute_result"
    }
   ],
   "source": [
    "np.where(marks >50, \"pass\" , \" fail\")#works as if else if marks greater than 50 then pass else fail"
   ]
  },
  {
   "cell_type": "code",
   "execution_count": 6,
   "id": "0d85edbe",
   "metadata": {},
   "outputs": [],
   "source": [
    "salary = np.array([10, 70, 80 ,90 ,45])"
   ]
  },
  {
   "cell_type": "code",
   "execution_count": 8,
   "id": "2d3ca703",
   "metadata": {},
   "outputs": [
    {
     "data": {
      "text/plain": [
       "array([11. , 73.5, 84. , 94.5, 49.5])"
      ]
     },
     "execution_count": 8,
     "metadata": {},
     "output_type": "execute_result"
    }
   ],
   "source": [
    "np.where(salary<50, salary * 1.1 , salary * 1.05)# increasing the salary using the where method"
   ]
  },
  {
   "cell_type": "code",
   "execution_count": 11,
   "id": "dc806c8d",
   "metadata": {},
   "outputs": [],
   "source": [
    "arr = np.arange(1,101).reshape((10,10))"
   ]
  },
  {
   "cell_type": "code",
   "execution_count": 12,
   "id": "dca5ccca",
   "metadata": {},
   "outputs": [
    {
     "data": {
      "text/plain": [
       "array([[  1,   2,   3,   4,   5,   6,   7,   8,   9,  10],\n",
       "       [ 11,  12,  13,  14,  15,  16,  17,  18,  19,  20],\n",
       "       [ 21,  22,  23,  24,  25,  26,  27,  28,  29,  30],\n",
       "       [ 31,  32,  33,  34,  35,  36,  37,  38,  39,  40],\n",
       "       [ 41,  42,  43,  44,  45,  46,  47,  48,  49,  50],\n",
       "       [ 51,  52,  53,  54,  55,  56,  57,  58,  59,  60],\n",
       "       [ 61,  62,  63,  64,  65,  66,  67,  68,  69,  70],\n",
       "       [ 71,  72,  73,  74,  75,  76,  77,  78,  79,  80],\n",
       "       [ 81,  82,  83,  84,  85,  86,  87,  88,  89,  90],\n",
       "       [ 91,  92,  93,  94,  95,  96,  97,  98,  99, 100]])"
      ]
     },
     "execution_count": 12,
     "metadata": {},
     "output_type": "execute_result"
    }
   ],
   "source": [
    "arr"
   ]
  },
  {
   "cell_type": "code",
   "execution_count": 14,
   "id": "577939aa",
   "metadata": {},
   "outputs": [
    {
     "data": {
      "text/plain": [
       "array([[  1,  11,  21,  31,  41,  51,  61,  71,  81,  91],\n",
       "       [  2,  12,  22,  32,  42,  52,  62,  72,  82,  92],\n",
       "       [  3,  13,  23,  33,  43,  53,  63,  73,  83,  93],\n",
       "       [  4,  14,  24,  34,  44,  54,  64,  74,  84,  94],\n",
       "       [  5,  15,  25,  35,  45,  55,  65,  75,  85,  95],\n",
       "       [  6,  16,  26,  36,  46,  56,  66,  76,  86,  96],\n",
       "       [  7,  17,  27,  37,  47,  57,  67,  77,  87,  97],\n",
       "       [  8,  18,  28,  38,  48,  58,  68,  78,  88,  98],\n",
       "       [  9,  19,  29,  39,  49,  59,  69,  79,  89,  99],\n",
       "       [ 10,  20,  30,  40,  50,  60,  70,  80,  90, 100]])"
      ]
     },
     "execution_count": 14,
     "metadata": {},
     "output_type": "execute_result"
    }
   ],
   "source": [
    "arr.T # transpose of a matrix"
   ]
  },
  {
   "cell_type": "code",
   "execution_count": 17,
   "id": "bfe3093b",
   "metadata": {},
   "outputs": [
    {
     "data": {
      "text/plain": [
       "array([[  1,  11,  21,  31,  41,  51,  61,  71,  81,  91],\n",
       "       [  2,  12,  22,  32,  42,  52,  62,  72,  82,  92],\n",
       "       [  3,  13,  23,  33,  43,  53,  63,  73,  83,  93],\n",
       "       [  4,  14,  24,  34,  44,  54,  64,  74,  84,  94],\n",
       "       [  5,  15,  25,  35,  45,  55,  65,  75,  85,  95],\n",
       "       [  6,  16,  26,  36,  46,  56,  66,  76,  86,  96],\n",
       "       [  7,  17,  27,  37,  47,  57,  67,  77,  87,  97],\n",
       "       [  8,  18,  28,  38,  48,  58,  68,  78,  88,  98],\n",
       "       [  9,  19,  29,  39,  49,  59,  69,  79,  89,  99],\n",
       "       [ 10,  20,  30,  40,  50,  60,  70,  80,  90, 100]])"
      ]
     },
     "execution_count": 17,
     "metadata": {},
     "output_type": "execute_result"
    }
   ],
   "source": [
    "arr.transpose() #transpose using transpose method"
   ]
  },
  {
   "cell_type": "code",
   "execution_count": 18,
   "id": "07e63f7a",
   "metadata": {},
   "outputs": [],
   "source": [
    "array = np.array([1,3,5,6,7,10])"
   ]
  },
  {
   "cell_type": "code",
   "execution_count": 19,
   "id": "f6d659bd",
   "metadata": {},
   "outputs": [
    {
     "data": {
      "text/plain": [
       "5.333333333333333"
      ]
     },
     "execution_count": 19,
     "metadata": {},
     "output_type": "execute_result"
    }
   ],
   "source": [
    "array.mean()"
   ]
  },
  {
   "cell_type": "code",
   "execution_count": 20,
   "id": "bfafb83c",
   "metadata": {},
   "outputs": [
    {
     "data": {
      "text/plain": [
       "array([ 1,  4,  9, 15, 22, 32], dtype=int32)"
      ]
     },
     "execution_count": 20,
     "metadata": {},
     "output_type": "execute_result"
    }
   ],
   "source": [
    "array.cumsum()#cumulative sum"
   ]
  },
  {
   "cell_type": "code",
   "execution_count": 22,
   "id": "164cded3",
   "metadata": {},
   "outputs": [
    {
     "data": {
      "text/plain": [
       "array([   1,    3,   15,   90,  630, 6300], dtype=int32)"
      ]
     },
     "execution_count": 22,
     "metadata": {},
     "output_type": "execute_result"
    }
   ],
   "source": [
    "array.cumprod()#cumulative product"
   ]
  },
  {
   "cell_type": "code",
   "execution_count": 23,
   "id": "befcd680",
   "metadata": {},
   "outputs": [],
   "source": [
    "#methods for boolean arrays"
   ]
  },
  {
   "cell_type": "code",
   "execution_count": 24,
   "id": "9033646d",
   "metadata": {},
   "outputs": [],
   "source": [
    "gender = np.array(['Male','Female','Male','Female','Male','Male'])"
   ]
  },
  {
   "cell_type": "code",
   "execution_count": 26,
   "id": "4d9f5fe4",
   "metadata": {},
   "outputs": [
    {
     "data": {
      "text/plain": [
       "array([ True, False,  True, False,  True,  True])"
      ]
     },
     "execution_count": 26,
     "metadata": {},
     "output_type": "execute_result"
    }
   ],
   "source": [
    "arr = gender == 'Male'\n",
    "arr"
   ]
  },
  {
   "cell_type": "code",
   "execution_count": 28,
   "id": "9b62b4a3",
   "metadata": {},
   "outputs": [
    {
     "data": {
      "text/plain": [
       "4"
      ]
     },
     "execution_count": 28,
     "metadata": {},
     "output_type": "execute_result"
    }
   ],
   "source": [
    "arr.sum()#total no of males in array"
   ]
  },
  {
   "cell_type": "code",
   "execution_count": 31,
   "id": "63fc41c8",
   "metadata": {},
   "outputs": [
    {
     "data": {
      "text/plain": [
       "True"
      ]
     },
     "execution_count": 31,
     "metadata": {},
     "output_type": "execute_result"
    }
   ],
   "source": [
    "arr = gender == 'Female'\n",
    "arr.any()#any checks if the value is present or not"
   ]
  },
  {
   "cell_type": "code",
   "execution_count": 33,
   "id": "ade88046",
   "metadata": {},
   "outputs": [
    {
     "data": {
      "text/plain": [
       "False"
      ]
     },
     "execution_count": 33,
     "metadata": {},
     "output_type": "execute_result"
    }
   ],
   "source": [
    "arr.all()# checks if all the values are 'female' or not"
   ]
  },
  {
   "cell_type": "code",
   "execution_count": 34,
   "id": "95dd92f9",
   "metadata": {},
   "outputs": [],
   "source": [
    "arr =  np.array([2,4,6,8,10,12])"
   ]
  },
  {
   "cell_type": "code",
   "execution_count": 35,
   "id": "b81aca02",
   "metadata": {},
   "outputs": [],
   "source": [
    "x = arr % 2 == 0"
   ]
  },
  {
   "cell_type": "code",
   "execution_count": 36,
   "id": "2307c821",
   "metadata": {},
   "outputs": [
    {
     "data": {
      "text/plain": [
       "True"
      ]
     },
     "execution_count": 36,
     "metadata": {},
     "output_type": "execute_result"
    }
   ],
   "source": [
    "x.all()"
   ]
  },
  {
   "cell_type": "code",
   "execution_count": 37,
   "id": "3b94de46",
   "metadata": {},
   "outputs": [
    {
     "data": {
      "text/plain": [
       "array([ 2,  4,  6,  8, 10, 12])"
      ]
     },
     "execution_count": 37,
     "metadata": {},
     "output_type": "execute_result"
    }
   ],
   "source": [
    "arr"
   ]
  },
  {
   "cell_type": "code",
   "execution_count": 47,
   "id": "6a37aa18",
   "metadata": {},
   "outputs": [],
   "source": [
    "arr = np.array([9,34,5,73,24,6,7,2,3,5,4])"
   ]
  },
  {
   "cell_type": "code",
   "execution_count": 48,
   "id": "09f7b8c5",
   "metadata": {},
   "outputs": [],
   "source": [
    "arr.sort() #inplace sorting"
   ]
  },
  {
   "cell_type": "code",
   "execution_count": 49,
   "id": "addc7d06",
   "metadata": {},
   "outputs": [
    {
     "data": {
      "text/plain": [
       "array([ 2,  3,  4,  5,  5,  6,  7,  9, 24, 34, 73])"
      ]
     },
     "execution_count": 49,
     "metadata": {},
     "output_type": "execute_result"
    }
   ],
   "source": [
    "arr"
   ]
  },
  {
   "cell_type": "code",
   "execution_count": 50,
   "id": "fc62544b",
   "metadata": {},
   "outputs": [
    {
     "data": {
      "text/plain": [
       "array([73, 34, 24,  9,  7,  6,  5,  5,  4,  3,  2])"
      ]
     },
     "execution_count": 50,
     "metadata": {},
     "output_type": "execute_result"
    }
   ],
   "source": [
    "arr[::-1]#sorting in reverse order"
   ]
  },
  {
   "cell_type": "code",
   "execution_count": 104,
   "id": "36425f27",
   "metadata": {},
   "outputs": [],
   "source": [
    "arr = np.array([11,11,23,34,23,55,4,3,21,21])"
   ]
  },
  {
   "cell_type": "code",
   "execution_count": 55,
   "id": "d57504c4",
   "metadata": {},
   "outputs": [
    {
     "data": {
      "text/plain": [
       "array([ 3,  4, 11, 21, 23, 34, 55])"
      ]
     },
     "execution_count": 55,
     "metadata": {},
     "output_type": "execute_result"
    }
   ],
   "source": [
    "np.unique(arr)# prints only single occurence of each element"
   ]
  },
  {
   "cell_type": "code",
   "execution_count": 56,
   "id": "b44dc9c3",
   "metadata": {},
   "outputs": [],
   "source": [
    "#file input output"
   ]
  },
  {
   "cell_type": "code",
   "execution_count": 57,
   "id": "e0532658",
   "metadata": {},
   "outputs": [],
   "source": [
    "array = np.array([10,20,30,40,50,60,70,80])"
   ]
  },
  {
   "cell_type": "code",
   "execution_count": 61,
   "id": "df07be07",
   "metadata": {},
   "outputs": [],
   "source": [
    "np.save('data',array)#saving the array in a file named \"data\""
   ]
  },
  {
   "cell_type": "code",
   "execution_count": 62,
   "id": "d59c9b28",
   "metadata": {},
   "outputs": [],
   "source": [
    "content = np.load('data.npy')#loading the data of that file"
   ]
  },
  {
   "cell_type": "code",
   "execution_count": 60,
   "id": "a22b6c12",
   "metadata": {},
   "outputs": [
    {
     "data": {
      "text/plain": [
       "array([10, 20, 30, 40, 50, 60, 70, 80])"
      ]
     },
     "execution_count": 60,
     "metadata": {},
     "output_type": "execute_result"
    }
   ],
   "source": [
    "content"
   ]
  },
  {
   "cell_type": "code",
   "execution_count": 63,
   "id": "43f8e712",
   "metadata": {},
   "outputs": [],
   "source": [
    "#saving multiple arrays"
   ]
  },
  {
   "cell_type": "code",
   "execution_count": 65,
   "id": "0f957664",
   "metadata": {},
   "outputs": [],
   "source": [
    "students =  np.array(['Ali','Sarim','Ahmed','Moosa','Bilal'])\n",
    "marks = np.array([97,93,91,70,76])"
   ]
  },
  {
   "cell_type": "code",
   "execution_count": 75,
   "id": "75e80a0e",
   "metadata": {},
   "outputs": [],
   "source": [
    "np.savez('arrays',std=students,m=marks)#savez is used for saving multiple arrays into a file"
   ]
  },
  {
   "cell_type": "code",
   "execution_count": 76,
   "id": "4d1925e1",
   "metadata": {},
   "outputs": [],
   "source": [
    "results = np.load('arrays.npz')"
   ]
  },
  {
   "cell_type": "code",
   "execution_count": 77,
   "id": "eda8e68c",
   "metadata": {},
   "outputs": [
    {
     "data": {
      "text/plain": [
       "array(['Ali', 'Sarim', 'Ahmed', 'Moosa', 'Bilal'], dtype='<U5')"
      ]
     },
     "execution_count": 77,
     "metadata": {},
     "output_type": "execute_result"
    }
   ],
   "source": [
    "results['std']"
   ]
  },
  {
   "cell_type": "code",
   "execution_count": 78,
   "id": "220a7b91",
   "metadata": {},
   "outputs": [
    {
     "data": {
      "text/plain": [
       "array([97, 93, 91, 70, 76])"
      ]
     },
     "execution_count": 78,
     "metadata": {},
     "output_type": "execute_result"
    }
   ],
   "source": [
    "results['m']"
   ]
  },
  {
   "cell_type": "code",
   "execution_count": null,
   "id": "fe0697a0",
   "metadata": {},
   "outputs": [],
   "source": [
    "#linear algebra operations"
   ]
  },
  {
   "cell_type": "code",
   "execution_count": 6,
   "id": "4f174731",
   "metadata": {},
   "outputs": [],
   "source": [
    "arr = np.arange(16).reshape(4,4)"
   ]
  },
  {
   "cell_type": "code",
   "execution_count": 80,
   "id": "5ca1ec17",
   "metadata": {},
   "outputs": [
    {
     "data": {
      "text/plain": [
       "array([[ 0,  1,  2,  3],\n",
       "       [ 4,  5,  6,  7],\n",
       "       [ 8,  9, 10, 11],\n",
       "       [12, 13, 14, 15]])"
      ]
     },
     "execution_count": 80,
     "metadata": {},
     "output_type": "execute_result"
    }
   ],
   "source": [
    "arr"
   ]
  },
  {
   "cell_type": "code",
   "execution_count": 7,
   "id": "48674bed",
   "metadata": {},
   "outputs": [
    {
     "data": {
      "text/plain": [
       "array([ 0,  5, 10, 15])"
      ]
     },
     "execution_count": 7,
     "metadata": {},
     "output_type": "execute_result"
    }
   ],
   "source": [
    "arr.diagonal()"
   ]
  },
  {
   "cell_type": "code",
   "execution_count": 8,
   "id": "5369f90a",
   "metadata": {},
   "outputs": [
    {
     "data": {
      "text/plain": [
       "30"
      ]
     },
     "execution_count": 8,
     "metadata": {},
     "output_type": "execute_result"
    }
   ],
   "source": [
    "arr.trace()"
   ]
  },
  {
   "cell_type": "code",
   "execution_count": 10,
   "id": "389d1225",
   "metadata": {},
   "outputs": [],
   "source": [
    "arr1 = np.arange(10,26).reshape((4,4))"
   ]
  },
  {
   "cell_type": "code",
   "execution_count": 12,
   "id": "d8faaca0",
   "metadata": {},
   "outputs": [
    {
     "data": {
      "text/plain": [
       "array([[ 116,  122,  128,  134],\n",
       "       [ 372,  394,  416,  438],\n",
       "       [ 628,  666,  704,  742],\n",
       "       [ 884,  938,  992, 1046]])"
      ]
     },
     "execution_count": 12,
     "metadata": {},
     "output_type": "execute_result"
    }
   ],
   "source": [
    "arr.dot(arr1)"
   ]
  },
  {
   "cell_type": "code",
   "execution_count": 18,
   "id": "29f8aca1",
   "metadata": {},
   "outputs": [],
   "source": [
    "from numpy import linalg as ln #importing linear algebra library"
   ]
  },
  {
   "cell_type": "code",
   "execution_count": 19,
   "id": "1f404e41",
   "metadata": {},
   "outputs": [],
   "source": [
    "#using linear algebra methods"
   ]
  },
  {
   "cell_type": "code",
   "execution_count": 25,
   "id": "f7572682",
   "metadata": {},
   "outputs": [
    {
     "data": {
      "text/plain": [
       "-2.9582283945787796e-30"
      ]
     },
     "execution_count": 25,
     "metadata": {},
     "output_type": "execute_result"
    }
   ],
   "source": [
    "ln.det(arr)#to find determinant"
   ]
  },
  {
   "cell_type": "code",
   "execution_count": 26,
   "id": "8c129c3a",
   "metadata": {},
   "outputs": [
    {
     "data": {
      "text/plain": [
       "(array([ 3.24642492e+01, -2.46424920e+00,  4.52933966e-17, -1.52275132e-15]),\n",
       " array([[-0.11417645, -0.7327781 ,  0.01936986, -0.48846795],\n",
       "        [-0.3300046 , -0.28974835,  0.38216644,  0.83598112],\n",
       "        [-0.54583275,  0.15328139, -0.82244247, -0.20655839],\n",
       "        [-0.76166089,  0.59631113,  0.42090617, -0.14095478]]))"
      ]
     },
     "execution_count": 26,
     "metadata": {},
     "output_type": "execute_result"
    }
   ],
   "source": [
    "ln.eig(arr)#method to find eigen values"
   ]
  },
  {
   "cell_type": "code",
   "execution_count": 27,
   "id": "32a8884d",
   "metadata": {},
   "outputs": [
    {
     "data": {
      "text/plain": [
       "array([[-0.21621622,  0.13513514],\n",
       "       [ 0.24324324, -0.02702703]])"
      ]
     },
     "execution_count": 27,
     "metadata": {},
     "output_type": "execute_result"
    }
   ],
   "source": [
    "ln.inv(np.array([[1,5],[9,8]]))#inverse method"
   ]
  },
  {
   "cell_type": "code",
   "execution_count": 29,
   "id": "cf932887",
   "metadata": {},
   "outputs": [
    {
     "data": {
      "text/plain": [
       "(array([[ 0.        , -0.83666003,  0.48308786,  0.25812035],\n",
       "        [-0.26726124, -0.47809144, -0.8365087 ,  0.01591196],\n",
       "        [-0.53452248, -0.11952286,  0.22375381, -0.80618499],\n",
       "        [-0.80178373,  0.23904572,  0.12966702,  0.53215267]]),\n",
       " array([[-1.49666295e+01, -1.65701970e+01, -1.81737645e+01,\n",
       "         -1.97773319e+01],\n",
       "        [ 0.00000000e+00, -1.19522861e+00, -2.39045722e+00,\n",
       "         -3.58568583e+00],\n",
       "        [ 0.00000000e+00,  0.00000000e+00, -1.71941189e-15,\n",
       "         -5.12511879e-15],\n",
       "        [ 0.00000000e+00,  0.00000000e+00,  0.00000000e+00,\n",
       "         -8.82043219e-16]]))"
      ]
     },
     "execution_count": 29,
     "metadata": {},
     "output_type": "execute_result"
    }
   ],
   "source": [
    "ln.qr(arr)#compute QR composition"
   ]
  },
  {
   "cell_type": "code",
   "execution_count": 32,
   "id": "c7fb675c",
   "metadata": {},
   "outputs": [
    {
     "data": {
      "text/plain": [
       "(array([[-0.09184212, -0.83160389,  0.52939495,  0.14050262],\n",
       "        [-0.31812733, -0.44586433, -0.8105844 ,  0.20725087],\n",
       "        [-0.54441254, -0.06012478,  0.03298396, -0.8360096 ],\n",
       "        [-0.77069775,  0.32561478,  0.2482055 ,  0.48825611]]),\n",
       " array([3.51399637e+01, 2.27661021e+00, 8.80118491e-16, 4.41188001e-17]),\n",
       " array([[-0.42334086, -0.47243254, -0.52152422, -0.57061589],\n",
       "        [ 0.72165263,  0.27714165, -0.16736932, -0.6118803 ],\n",
       "        [ 0.5427818 , -0.66899815, -0.29034911,  0.41656546],\n",
       "        [ 0.0734024 , -0.50243554,  0.78466387, -0.35563073]]))"
      ]
     },
     "execution_count": 32,
     "metadata": {},
     "output_type": "execute_result"
    }
   ],
   "source": [
    "ln.svd(arr)#compute single value decomposition"
   ]
  },
  {
   "cell_type": "code",
   "execution_count": null,
   "id": "53c8e8b5",
   "metadata": {},
   "outputs": [],
   "source": [
    "#random number generation"
   ]
  },
  {
   "cell_type": "code",
   "execution_count": 33,
   "id": "a4941fba",
   "metadata": {},
   "outputs": [
    {
     "data": {
      "text/plain": [
       "array([[ 4.42454219, -3.14868387,  3.50988262],\n",
       "       [ 8.34318692, -2.10026493, -2.45446316],\n",
       "       [ 0.61671251,  6.66934293,  5.03557687]])"
      ]
     },
     "execution_count": 33,
     "metadata": {},
     "output_type": "execute_result"
    }
   ],
   "source": [
    "np.random.normal(3,4,(3,3))"
   ]
  },
  {
   "cell_type": "code",
   "execution_count": 34,
   "id": "f1e4cd7f",
   "metadata": {},
   "outputs": [
    {
     "data": {
      "text/plain": [
       "array([[2.26605553, 0.41482053, 6.05062269, 0.25531714],\n",
       "       [0.73991469, 8.27779875, 0.40756713, 1.14047351],\n",
       "       [0.31488837, 0.02228179, 0.9053312 , 0.23058572],\n",
       "       [1.80541295, 1.68487661, 1.55678975, 0.09959465]])"
      ]
     },
     "execution_count": 34,
     "metadata": {},
     "output_type": "execute_result"
    }
   ],
   "source": [
    "np.random.gamma(1,2,(4,4))"
   ]
  },
  {
   "cell_type": "code",
   "execution_count": 35,
   "id": "2e50e97d",
   "metadata": {},
   "outputs": [],
   "source": [
    "#seed"
   ]
  },
  {
   "cell_type": "code",
   "execution_count": 46,
   "id": "4f17dcc9",
   "metadata": {},
   "outputs": [],
   "source": [
    "np.random.seed(6) # By setting the seed, you can ensure that the random numbers generated by NumPy are reproducible."
   ]
  },
  {
   "cell_type": "code",
   "execution_count": 47,
   "id": "1d62fe6c",
   "metadata": {},
   "outputs": [
    {
     "data": {
      "text/plain": [
       "0.8928601514360016"
      ]
     },
     "execution_count": 47,
     "metadata": {},
     "output_type": "execute_result"
    }
   ],
   "source": [
    "np.random.rand()"
   ]
  },
  {
   "cell_type": "code",
   "execution_count": 48,
   "id": "07239433",
   "metadata": {},
   "outputs": [],
   "source": [
    "#reshape"
   ]
  },
  {
   "cell_type": "code",
   "execution_count": 65,
   "id": "8bd91035",
   "metadata": {},
   "outputs": [],
   "source": [
    "arr = np.arange(16)"
   ]
  },
  {
   "cell_type": "code",
   "execution_count": 66,
   "id": "7428abf0",
   "metadata": {},
   "outputs": [
    {
     "data": {
      "text/plain": [
       "array([[ 0,  4,  8, 12],\n",
       "       [ 1,  5,  9, 13],\n",
       "       [ 2,  6, 10, 14],\n",
       "       [ 3,  7, 11, 15]])"
      ]
     },
     "execution_count": 66,
     "metadata": {},
     "output_type": "execute_result"
    }
   ],
   "source": [
    "arr.reshape((4,4),order='F')# setting the array shape as columns \"fotran style\""
   ]
  },
  {
   "cell_type": "code",
   "execution_count": 53,
   "id": "505d650f",
   "metadata": {},
   "outputs": [
    {
     "data": {
      "text/plain": [
       "array([[ 0,  1,  2,  3],\n",
       "       [ 4,  5,  6,  7],\n",
       "       [ 8,  9, 10, 11],\n",
       "       [12, 13, 14, 15]])"
      ]
     },
     "execution_count": 53,
     "metadata": {},
     "output_type": "execute_result"
    }
   ],
   "source": [
    "arr.reshape((4,4),order='c')# setting the array shape as rows 'c style'"
   ]
  },
  {
   "cell_type": "code",
   "execution_count": 56,
   "id": "9d940ad2",
   "metadata": {},
   "outputs": [],
   "source": [
    "#array flatten and ravel"
   ]
  },
  {
   "cell_type": "code",
   "execution_count": 58,
   "id": "d724d229",
   "metadata": {},
   "outputs": [],
   "source": [
    "arr = np.array([[1,2,3],[4,5,6],[7,8,9]])"
   ]
  },
  {
   "cell_type": "code",
   "execution_count": 59,
   "id": "7f562420",
   "metadata": {},
   "outputs": [
    {
     "data": {
      "text/plain": [
       "array([[1, 2, 3],\n",
       "       [4, 5, 6],\n",
       "       [7, 8, 9]])"
      ]
     },
     "execution_count": 59,
     "metadata": {},
     "output_type": "execute_result"
    }
   ],
   "source": [
    "arr"
   ]
  },
  {
   "cell_type": "code",
   "execution_count": 60,
   "id": "f4b7aaa1",
   "metadata": {},
   "outputs": [
    {
     "data": {
      "text/plain": [
       "array([1, 2, 3, 4, 5, 6, 7, 8, 9])"
      ]
     },
     "execution_count": 60,
     "metadata": {},
     "output_type": "execute_result"
    }
   ],
   "source": [
    "arr.flatten()#converts array into one dimension"
   ]
  },
  {
   "cell_type": "code",
   "execution_count": 61,
   "id": "a0e7b7bd",
   "metadata": {},
   "outputs": [
    {
     "data": {
      "text/plain": [
       "array([[1, 2, 3],\n",
       "       [4, 5, 6],\n",
       "       [7, 8, 9]])"
      ]
     },
     "execution_count": 61,
     "metadata": {},
     "output_type": "execute_result"
    }
   ],
   "source": [
    "arr"
   ]
  },
  {
   "cell_type": "code",
   "execution_count": 63,
   "id": "c474e9b2",
   "metadata": {},
   "outputs": [
    {
     "data": {
      "text/plain": [
       "array([1, 2, 3, 4, 5, 6, 7, 8, 9])"
      ]
     },
     "execution_count": 63,
     "metadata": {},
     "output_type": "execute_result"
    }
   ],
   "source": [
    "arr.ravel()#converts array into one dimension"
   ]
  },
  {
   "cell_type": "code",
   "execution_count": 67,
   "id": "3ae88c1c",
   "metadata": {},
   "outputs": [
    {
     "data": {
      "text/plain": [
       "'\\nflatten doesnt effect the real array and makes a copy into single dimension and ravel converts the real array\\nravel takes less space and is faster\\n'"
      ]
     },
     "execution_count": 67,
     "metadata": {},
     "output_type": "execute_result"
    }
   ],
   "source": [
    "# difference between ravel and flatten\n",
    "\"\"\"\n",
    "flatten doesnt effect the real array and makes a copy into single dimension and ravel converts the real array\n",
    "ravel takes less space and is faster\n",
    "\"\"\""
   ]
  },
  {
   "cell_type": "code",
   "execution_count": 69,
   "id": "a667126b",
   "metadata": {},
   "outputs": [],
   "source": [
    "#concatenation"
   ]
  },
  {
   "cell_type": "code",
   "execution_count": 68,
   "id": "d71cf97d",
   "metadata": {},
   "outputs": [],
   "source": [
    "a =  np.array([[1,2],[3,4]])\n",
    "b = np.array([[7,8],[9,10]])"
   ]
  },
  {
   "cell_type": "code",
   "execution_count": 71,
   "id": "0b05ac51",
   "metadata": {},
   "outputs": [
    {
     "data": {
      "text/plain": [
       "array([[ 1,  2],\n",
       "       [ 3,  4],\n",
       "       [ 7,  8],\n",
       "       [ 9, 10]])"
      ]
     },
     "execution_count": 71,
     "metadata": {},
     "output_type": "execute_result"
    }
   ],
   "source": [
    "np.concatenate((a,b),axis=0)#concatenation of two dimension array axis =0 row wise"
   ]
  },
  {
   "cell_type": "code",
   "execution_count": 72,
   "id": "2656866d",
   "metadata": {},
   "outputs": [
    {
     "data": {
      "text/plain": [
       "array([[ 1,  2,  7,  8],\n",
       "       [ 3,  4,  9, 10]])"
      ]
     },
     "execution_count": 72,
     "metadata": {},
     "output_type": "execute_result"
    }
   ],
   "source": [
    "np.concatenate((a,b),axis=1)#concatenation of two dimension array axis =1 column wise wise"
   ]
  },
  {
   "cell_type": "code",
   "execution_count": 73,
   "id": "424e99c8",
   "metadata": {},
   "outputs": [
    {
     "data": {
      "text/plain": [
       "array([[ 1,  2,  7,  8],\n",
       "       [ 3,  4,  9, 10]])"
      ]
     },
     "execution_count": 73,
     "metadata": {},
     "output_type": "execute_result"
    }
   ],
   "source": [
    "np.hstack((a,b))# concatenates like axis = 1"
   ]
  },
  {
   "cell_type": "code",
   "execution_count": 74,
   "id": "b06286ae",
   "metadata": {},
   "outputs": [
    {
     "data": {
      "text/plain": [
       "array([[ 1,  2],\n",
       "       [ 3,  4],\n",
       "       [ 7,  8],\n",
       "       [ 9, 10]])"
      ]
     },
     "execution_count": 74,
     "metadata": {},
     "output_type": "execute_result"
    }
   ],
   "source": [
    "np.vstack((a,b))# concatenates like axis = 0"
   ]
  },
  {
   "cell_type": "code",
   "execution_count": 75,
   "id": "d6f78e95",
   "metadata": {},
   "outputs": [
    {
     "data": {
      "text/plain": [
       "array([[ 1,  2],\n",
       "       [ 3,  4],\n",
       "       [ 7,  8],\n",
       "       [ 9, 10]])"
      ]
     },
     "execution_count": 75,
     "metadata": {},
     "output_type": "execute_result"
    }
   ],
   "source": [
    "np.r_[a,b] # row wise concatenation"
   ]
  },
  {
   "cell_type": "code",
   "execution_count": 77,
   "id": "595c7abc",
   "metadata": {},
   "outputs": [
    {
     "data": {
      "text/plain": [
       "array([[ 1,  2,  7,  8],\n",
       "       [ 3,  4,  9, 10]])"
      ]
     },
     "execution_count": 77,
     "metadata": {},
     "output_type": "execute_result"
    }
   ],
   "source": [
    "np.c_[a,b] # column wise concatenation"
   ]
  },
  {
   "cell_type": "code",
   "execution_count": 78,
   "id": "74e7863d",
   "metadata": {},
   "outputs": [],
   "source": [
    "#split"
   ]
  },
  {
   "cell_type": "code",
   "execution_count": 95,
   "id": "dc5e7ef6",
   "metadata": {},
   "outputs": [],
   "source": [
    " x = np.array([1,5,66,73,3,4,5,22])"
   ]
  },
  {
   "cell_type": "code",
   "execution_count": 96,
   "id": "39de8248",
   "metadata": {},
   "outputs": [
    {
     "data": {
      "text/plain": [
       "[array([ 1,  5, 66]), array([73,  3,  4,  5, 22])]"
      ]
     },
     "execution_count": 96,
     "metadata": {},
     "output_type": "execute_result"
    }
   ],
   "source": [
    "np.split(x,[3])#splits the array from the position mentioned \"3\""
   ]
  },
  {
   "cell_type": "code",
   "execution_count": 97,
   "id": "e4e81500",
   "metadata": {},
   "outputs": [
    {
     "data": {
      "text/plain": [
       "[array([ 1,  5, 66]), array([73,  3]), array([ 4,  5, 22])]"
      ]
     },
     "execution_count": 97,
     "metadata": {},
     "output_type": "execute_result"
    }
   ],
   "source": [
    "np.split(x,[3,5])# for multiple splits give multiple position it will split from those positions"
   ]
  },
  {
   "cell_type": "code",
   "execution_count": 101,
   "id": "e1d7328a",
   "metadata": {},
   "outputs": [],
   "source": [
    "l = np.arange(2,7,2)"
   ]
  },
  {
   "cell_type": "code",
   "execution_count": 102,
   "id": "d6ee7cc2",
   "metadata": {},
   "outputs": [
    {
     "data": {
      "text/plain": [
       "array([2, 4, 6])"
      ]
     },
     "execution_count": 102,
     "metadata": {},
     "output_type": "execute_result"
    }
   ],
   "source": [
    "l"
   ]
  },
  {
   "cell_type": "code",
   "execution_count": 103,
   "id": "cad64cc4",
   "metadata": {},
   "outputs": [
    {
     "data": {
      "text/plain": [
       "[array([1, 5]), array([66, 73]), array([3, 4]), array([ 5, 22])]"
      ]
     },
     "execution_count": 103,
     "metadata": {},
     "output_type": "execute_result"
    }
   ],
   "source": [
    "np.split(x,l)"
   ]
  },
  {
   "cell_type": "code",
   "execution_count": null,
   "id": "d866b78c",
   "metadata": {},
   "outputs": [],
   "source": []
  }
 ],
 "metadata": {
  "kernelspec": {
   "display_name": "Python 3 (ipykernel)",
   "language": "python",
   "name": "python3"
  },
  "language_info": {
   "codemirror_mode": {
    "name": "ipython",
    "version": 3
   },
   "file_extension": ".py",
   "mimetype": "text/x-python",
   "name": "python",
   "nbconvert_exporter": "python",
   "pygments_lexer": "ipython3",
   "version": "3.9.13"
  }
 },
 "nbformat": 4,
 "nbformat_minor": 5
}
