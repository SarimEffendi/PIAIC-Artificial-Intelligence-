{
 "cells": [
  {
   "cell_type": "code",
   "execution_count": 1,
   "id": "9c5cd6ee",
   "metadata": {},
   "outputs": [],
   "source": [
    "import numpy as np"
   ]
  },
  {
   "cell_type": "code",
   "execution_count": 2,
   "id": "dc148aaf",
   "metadata": {},
   "outputs": [],
   "source": [
    "#where method"
   ]
  },
  {
   "cell_type": "code",
   "execution_count": 3,
   "id": "b5c79d7d",
   "metadata": {},
   "outputs": [],
   "source": [
    "marks = np.array([50,56,32,67,54,99,76])"
   ]
  },
  {
   "cell_type": "code",
   "execution_count": 5,
   "id": "68ff8dab",
   "metadata": {},
   "outputs": [
    {
     "data": {
      "text/plain": [
       "array([' fail', 'pass', ' fail', 'pass', 'pass', 'pass', 'pass'],\n",
       "      dtype='<U5')"
      ]
     },
     "execution_count": 5,
     "metadata": {},
     "output_type": "execute_result"
    }
   ],
   "source": [
    "np.where(marks >50, \"pass\" , \" fail\")#works as if else if marks greater than 50 then pass else fail"
   ]
  },
  {
   "cell_type": "code",
   "execution_count": 6,
   "id": "5524391f",
   "metadata": {},
   "outputs": [],
   "source": [
    "salary = np.array([10, 70, 80 ,90 ,45])"
   ]
  },
  {
   "cell_type": "code",
   "execution_count": 8,
   "id": "569b5b3c",
   "metadata": {},
   "outputs": [
    {
     "data": {
      "text/plain": [
       "array([11. , 73.5, 84. , 94.5, 49.5])"
      ]
     },
     "execution_count": 8,
     "metadata": {},
     "output_type": "execute_result"
    }
   ],
   "source": [
    "np.where(salary<50, salary * 1.1 , salary * 1.05)# increasing the salary using the where method"
   ]
  },
  {
   "cell_type": "code",
   "execution_count": 11,
   "id": "37e66fce",
   "metadata": {},
   "outputs": [],
   "source": [
    "arr = np.arange(1,101).reshape((10,10))"
   ]
  },
  {
   "cell_type": "code",
   "execution_count": 12,
   "id": "ea1cee33",
   "metadata": {},
   "outputs": [
    {
     "data": {
      "text/plain": [
       "array([[  1,   2,   3,   4,   5,   6,   7,   8,   9,  10],\n",
       "       [ 11,  12,  13,  14,  15,  16,  17,  18,  19,  20],\n",
       "       [ 21,  22,  23,  24,  25,  26,  27,  28,  29,  30],\n",
       "       [ 31,  32,  33,  34,  35,  36,  37,  38,  39,  40],\n",
       "       [ 41,  42,  43,  44,  45,  46,  47,  48,  49,  50],\n",
       "       [ 51,  52,  53,  54,  55,  56,  57,  58,  59,  60],\n",
       "       [ 61,  62,  63,  64,  65,  66,  67,  68,  69,  70],\n",
       "       [ 71,  72,  73,  74,  75,  76,  77,  78,  79,  80],\n",
       "       [ 81,  82,  83,  84,  85,  86,  87,  88,  89,  90],\n",
       "       [ 91,  92,  93,  94,  95,  96,  97,  98,  99, 100]])"
      ]
     },
     "execution_count": 12,
     "metadata": {},
     "output_type": "execute_result"
    }
   ],
   "source": [
    "arr"
   ]
  },
  {
   "cell_type": "code",
   "execution_count": 14,
   "id": "c628dee4",
   "metadata": {},
   "outputs": [
    {
     "data": {
      "text/plain": [
       "array([[  1,  11,  21,  31,  41,  51,  61,  71,  81,  91],\n",
       "       [  2,  12,  22,  32,  42,  52,  62,  72,  82,  92],\n",
       "       [  3,  13,  23,  33,  43,  53,  63,  73,  83,  93],\n",
       "       [  4,  14,  24,  34,  44,  54,  64,  74,  84,  94],\n",
       "       [  5,  15,  25,  35,  45,  55,  65,  75,  85,  95],\n",
       "       [  6,  16,  26,  36,  46,  56,  66,  76,  86,  96],\n",
       "       [  7,  17,  27,  37,  47,  57,  67,  77,  87,  97],\n",
       "       [  8,  18,  28,  38,  48,  58,  68,  78,  88,  98],\n",
       "       [  9,  19,  29,  39,  49,  59,  69,  79,  89,  99],\n",
       "       [ 10,  20,  30,  40,  50,  60,  70,  80,  90, 100]])"
      ]
     },
     "execution_count": 14,
     "metadata": {},
     "output_type": "execute_result"
    }
   ],
   "source": [
    "arr.T # transpose of a matrix"
   ]
  },
  {
   "cell_type": "code",
   "execution_count": 17,
   "id": "19fe2d3e",
   "metadata": {},
   "outputs": [
    {
     "data": {
      "text/plain": [
       "array([[  1,  11,  21,  31,  41,  51,  61,  71,  81,  91],\n",
       "       [  2,  12,  22,  32,  42,  52,  62,  72,  82,  92],\n",
       "       [  3,  13,  23,  33,  43,  53,  63,  73,  83,  93],\n",
       "       [  4,  14,  24,  34,  44,  54,  64,  74,  84,  94],\n",
       "       [  5,  15,  25,  35,  45,  55,  65,  75,  85,  95],\n",
       "       [  6,  16,  26,  36,  46,  56,  66,  76,  86,  96],\n",
       "       [  7,  17,  27,  37,  47,  57,  67,  77,  87,  97],\n",
       "       [  8,  18,  28,  38,  48,  58,  68,  78,  88,  98],\n",
       "       [  9,  19,  29,  39,  49,  59,  69,  79,  89,  99],\n",
       "       [ 10,  20,  30,  40,  50,  60,  70,  80,  90, 100]])"
      ]
     },
     "execution_count": 17,
     "metadata": {},
     "output_type": "execute_result"
    }
   ],
   "source": [
    "arr.transpose() #transpose using transpose method"
   ]
  },
  {
   "cell_type": "code",
   "execution_count": 18,
   "id": "c7c3ea1b",
   "metadata": {},
   "outputs": [],
   "source": [
    "array = np.array([1,3,5,6,7,10])"
   ]
  },
  {
   "cell_type": "code",
   "execution_count": 19,
   "id": "cdeb9895",
   "metadata": {},
   "outputs": [
    {
     "data": {
      "text/plain": [
       "5.333333333333333"
      ]
     },
     "execution_count": 19,
     "metadata": {},
     "output_type": "execute_result"
    }
   ],
   "source": [
    "array.mean()"
   ]
  },
  {
   "cell_type": "code",
   "execution_count": 20,
   "id": "a2ba6b53",
   "metadata": {},
   "outputs": [
    {
     "data": {
      "text/plain": [
       "array([ 1,  4,  9, 15, 22, 32], dtype=int32)"
      ]
     },
     "execution_count": 20,
     "metadata": {},
     "output_type": "execute_result"
    }
   ],
   "source": [
    "array.cumsum()#cumulative sum"
   ]
  },
  {
   "cell_type": "code",
   "execution_count": 22,
   "id": "5431b343",
   "metadata": {},
   "outputs": [
    {
     "data": {
      "text/plain": [
       "array([   1,    3,   15,   90,  630, 6300], dtype=int32)"
      ]
     },
     "execution_count": 22,
     "metadata": {},
     "output_type": "execute_result"
    }
   ],
   "source": [
    "array.cumprod()#cumulative product"
   ]
  },
  {
   "cell_type": "code",
   "execution_count": 23,
   "id": "de545e2c",
   "metadata": {},
   "outputs": [],
   "source": [
    "#methods for boolean arrays"
   ]
  },
  {
   "cell_type": "code",
   "execution_count": 24,
   "id": "5f78af08",
   "metadata": {},
   "outputs": [],
   "source": [
    "gender = np.array(['Male','Female','Male','Female','Male','Male'])"
   ]
  },
  {
   "cell_type": "code",
   "execution_count": 26,
   "id": "6145e70d",
   "metadata": {},
   "outputs": [
    {
     "data": {
      "text/plain": [
       "array([ True, False,  True, False,  True,  True])"
      ]
     },
     "execution_count": 26,
     "metadata": {},
     "output_type": "execute_result"
    }
   ],
   "source": [
    "arr = gender == 'Male'\n",
    "arr"
   ]
  },
  {
   "cell_type": "code",
   "execution_count": 28,
   "id": "375ef71e",
   "metadata": {},
   "outputs": [
    {
     "data": {
      "text/plain": [
       "4"
      ]
     },
     "execution_count": 28,
     "metadata": {},
     "output_type": "execute_result"
    }
   ],
   "source": [
    "arr.sum()#total no of males in array"
   ]
  },
  {
   "cell_type": "code",
   "execution_count": 31,
   "id": "b0302b92",
   "metadata": {},
   "outputs": [
    {
     "data": {
      "text/plain": [
       "True"
      ]
     },
     "execution_count": 31,
     "metadata": {},
     "output_type": "execute_result"
    }
   ],
   "source": [
    "arr = gender == 'Female'\n",
    "arr.any()#any checks if the value is present or not"
   ]
  },
  {
   "cell_type": "code",
   "execution_count": 33,
   "id": "89da050d",
   "metadata": {},
   "outputs": [
    {
     "data": {
      "text/plain": [
       "False"
      ]
     },
     "execution_count": 33,
     "metadata": {},
     "output_type": "execute_result"
    }
   ],
   "source": [
    "arr.all()# checks if all the values are 'female' or not"
   ]
  },
  {
   "cell_type": "code",
   "execution_count": 34,
   "id": "d6381d6e",
   "metadata": {},
   "outputs": [],
   "source": [
    "arr =  np.array([2,4,6,8,10,12])"
   ]
  },
  {
   "cell_type": "code",
   "execution_count": 35,
   "id": "7a07d2c4",
   "metadata": {},
   "outputs": [],
   "source": [
    "x = arr % 2 == 0"
   ]
  },
  {
   "cell_type": "code",
   "execution_count": 36,
   "id": "664eaca1",
   "metadata": {},
   "outputs": [
    {
     "data": {
      "text/plain": [
       "True"
      ]
     },
     "execution_count": 36,
     "metadata": {},
     "output_type": "execute_result"
    }
   ],
   "source": [
    "x.all()"
   ]
  },
  {
   "cell_type": "code",
   "execution_count": 37,
   "id": "95240881",
   "metadata": {},
   "outputs": [
    {
     "data": {
      "text/plain": [
       "array([ 2,  4,  6,  8, 10, 12])"
      ]
     },
     "execution_count": 37,
     "metadata": {},
     "output_type": "execute_result"
    }
   ],
   "source": [
    "arr"
   ]
  },
  {
   "cell_type": "code",
   "execution_count": 47,
   "id": "f270aed5",
   "metadata": {},
   "outputs": [],
   "source": [
    "arr = np.array([9,34,5,73,24,6,7,2,3,5,4])"
   ]
  },
  {
   "cell_type": "code",
   "execution_count": 48,
   "id": "310b4bfc",
   "metadata": {},
   "outputs": [],
   "source": [
    "arr.sort() #inplace sorting"
   ]
  },
  {
   "cell_type": "code",
   "execution_count": 49,
   "id": "4f04b668",
   "metadata": {},
   "outputs": [
    {
     "data": {
      "text/plain": [
       "array([ 2,  3,  4,  5,  5,  6,  7,  9, 24, 34, 73])"
      ]
     },
     "execution_count": 49,
     "metadata": {},
     "output_type": "execute_result"
    }
   ],
   "source": [
    "arr"
   ]
  },
  {
   "cell_type": "code",
   "execution_count": 50,
   "id": "e5d82a18",
   "metadata": {},
   "outputs": [
    {
     "data": {
      "text/plain": [
       "array([73, 34, 24,  9,  7,  6,  5,  5,  4,  3,  2])"
      ]
     },
     "execution_count": 50,
     "metadata": {},
     "output_type": "execute_result"
    }
   ],
   "source": [
    "arr[::-1]#sorting in reverse order"
   ]
  },
  {
   "cell_type": "code",
   "execution_count": 53,
   "id": "fe23f012",
   "metadata": {},
   "outputs": [],
   "source": [
    "arr = np.array([11,11,23,34,23,55,4,3,21,21])"
   ]
  },
  {
   "cell_type": "code",
   "execution_count": 55,
   "id": "89b8aaff",
   "metadata": {},
   "outputs": [
    {
     "data": {
      "text/plain": [
       "array([ 3,  4, 11, 21, 23, 34, 55])"
      ]
     },
     "execution_count": 55,
     "metadata": {},
     "output_type": "execute_result"
    }
   ],
   "source": [
    "np.unique(arr)# prints only single occurence of each element"
   ]
  },
  {
   "cell_type": "code",
   "execution_count": 56,
   "id": "057e4d84",
   "metadata": {},
   "outputs": [],
   "source": [
    "#file input output"
   ]
  },
  {
   "cell_type": "code",
   "execution_count": 57,
   "id": "886e67a0",
   "metadata": {},
   "outputs": [],
   "source": [
    "array = np.array([10,20,30,40,50,60,70,80])"
   ]
  },
  {
   "cell_type": "code",
   "execution_count": 61,
   "id": "48267c79",
   "metadata": {},
   "outputs": [],
   "source": [
    "np.save('data',array)#saving the array in a file named \"data\""
   ]
  },
  {
   "cell_type": "code",
   "execution_count": 62,
   "id": "d8aede52",
   "metadata": {},
   "outputs": [],
   "source": [
    "content = np.load('data.npy')#loading the data of that file"
   ]
  },
  {
   "cell_type": "code",
   "execution_count": 60,
   "id": "8ac81158",
   "metadata": {},
   "outputs": [
    {
     "data": {
      "text/plain": [
       "array([10, 20, 30, 40, 50, 60, 70, 80])"
      ]
     },
     "execution_count": 60,
     "metadata": {},
     "output_type": "execute_result"
    }
   ],
   "source": [
    "content"
   ]
  },
  {
   "cell_type": "code",
   "execution_count": 63,
   "id": "f8abfdb7",
   "metadata": {},
   "outputs": [],
   "source": [
    "#saving multiple arrays"
   ]
  },
  {
   "cell_type": "code",
   "execution_count": 65,
   "id": "6bf82790",
   "metadata": {},
   "outputs": [],
   "source": [
    "students =  np.array(['Ali','Sarim','Ahmed','Moosa','Bilal'])\n",
    "marks = np.array([97,93,91,70,76])"
   ]
  },
  {
   "cell_type": "code",
   "execution_count": 66,
   "id": "37d7248e",
   "metadata": {},
   "outputs": [],
   "source": [
    "np.savez('arrays',std=students,m=marks)"
   ]
  },
  {
   "cell_type": "code",
   "execution_count": 68,
   "id": "38ec44e4",
   "metadata": {},
   "outputs": [],
   "source": [
    "results = np.load('arrays.npz')"
   ]
  },
  {
   "cell_type": "code",
   "execution_count": null,
   "id": "610865fd",
   "metadata": {},
   "outputs": [],
   "source": []
  }
 ],
 "metadata": {
  "kernelspec": {
   "display_name": "Python 3 (ipykernel)",
   "language": "python",
   "name": "python3"
  },
  "language_info": {
   "codemirror_mode": {
    "name": "ipython",
    "version": 3
   },
   "file_extension": ".py",
   "mimetype": "text/x-python",
   "name": "python",
   "nbconvert_exporter": "python",
   "pygments_lexer": "ipython3",
   "version": "3.9.13"
  }
 },
 "nbformat": 4,
 "nbformat_minor": 5
}
