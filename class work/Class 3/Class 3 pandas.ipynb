{
 "cells": [
  {
   "cell_type": "code",
   "execution_count": 2,
   "id": "95b0df95",
   "metadata": {},
   "outputs": [],
   "source": [
    "#pandas \n",
    "#uses of pandas\n",
    "#Data cleaning, normalization and transformation\n",
    "#designed for working with tabular or heterogeneous data(diverse in nature can consists of different types,formats,structures and sources)"
   ]
  },
  {
   "cell_type": "code",
   "execution_count": 3,
   "id": "5eb3a06a",
   "metadata": {},
   "outputs": [],
   "source": [
    "import pandas as pd\n",
    "import numpy as np"
   ]
  },
  {
   "cell_type": "code",
   "execution_count": 4,
   "id": "34ebdd42",
   "metadata": {},
   "outputs": [],
   "source": [
    "#series - A series of data (1 dimensional)\n",
    "#Dataframes - Tabular data (2 dimensional)"
   ]
  },
  {
   "cell_type": "code",
   "execution_count": 5,
   "id": "9f67853f",
   "metadata": {},
   "outputs": [],
   "source": [
    "marks = pd.Series([80,70,60]) "
   ]
  },
  {
   "cell_type": "code",
   "execution_count": 6,
   "id": "1672693a",
   "metadata": {},
   "outputs": [
    {
     "data": {
      "text/plain": [
       "0    80\n",
       "1    70\n",
       "2    60\n",
       "dtype: int64"
      ]
     },
     "execution_count": 6,
     "metadata": {},
     "output_type": "execute_result"
    }
   ],
   "source": [
    "marks"
   ]
  },
  {
   "cell_type": "code",
   "execution_count": 7,
   "id": "08deb805",
   "metadata": {},
   "outputs": [
    {
     "data": {
      "text/plain": [
       "70"
      ]
     },
     "execution_count": 7,
     "metadata": {},
     "output_type": "execute_result"
    }
   ],
   "source": [
    "marks[1]"
   ]
  },
  {
   "cell_type": "code",
   "execution_count": 8,
   "id": "d357722e",
   "metadata": {},
   "outputs": [],
   "source": [
    "#specifying indexes"
   ]
  },
  {
   "cell_type": "code",
   "execution_count": 9,
   "id": "fb41e05a",
   "metadata": {},
   "outputs": [],
   "source": [
    "marks = pd.Series([80,70,90], index=['ali','ahmed','sarim'])"
   ]
  },
  {
   "cell_type": "code",
   "execution_count": 10,
   "id": "2813e6ac",
   "metadata": {},
   "outputs": [
    {
     "data": {
      "text/plain": [
       "80"
      ]
     },
     "execution_count": 10,
     "metadata": {},
     "output_type": "execute_result"
    }
   ],
   "source": [
    "marks['ali']"
   ]
  },
  {
   "cell_type": "code",
   "execution_count": 11,
   "id": "546b29a0",
   "metadata": {},
   "outputs": [],
   "source": [
    "#datatypes"
   ]
  },
  {
   "cell_type": "code",
   "execution_count": 12,
   "id": "474ce32b",
   "metadata": {},
   "outputs": [],
   "source": [
    "age = pd.Series([22,21,20],index=['ali','ahmed','sarim'],dtype='float')"
   ]
  },
  {
   "cell_type": "code",
   "execution_count": 13,
   "id": "f5935e84",
   "metadata": {},
   "outputs": [
    {
     "data": {
      "text/plain": [
       "ali      22.0\n",
       "ahmed    21.0\n",
       "sarim    20.0\n",
       "dtype: float64"
      ]
     },
     "execution_count": 13,
     "metadata": {},
     "output_type": "execute_result"
    }
   ],
   "source": [
    "age"
   ]
  },
  {
   "cell_type": "code",
   "execution_count": 14,
   "id": "043d162d",
   "metadata": {},
   "outputs": [],
   "source": [
    "#some conditions"
   ]
  },
  {
   "cell_type": "code",
   "execution_count": 15,
   "id": "c37c11aa",
   "metadata": {},
   "outputs": [
    {
     "data": {
      "text/plain": [
       "ali      22.0\n",
       "ahmed    21.0\n",
       "dtype: float64"
      ]
     },
     "execution_count": 15,
     "metadata": {},
     "output_type": "execute_result"
    }
   ],
   "source": [
    "age[age>20]#filtering"
   ]
  },
  {
   "cell_type": "code",
   "execution_count": 16,
   "id": "8fc7e173",
   "metadata": {},
   "outputs": [
    {
     "data": {
      "text/plain": [
       "sarim    20.0\n",
       "ali      22.0\n",
       "dtype: float64"
      ]
     },
     "execution_count": 16,
     "metadata": {},
     "output_type": "execute_result"
    }
   ],
   "source": [
    "age[['sarim','ali']] #fancy indexing"
   ]
  },
  {
   "cell_type": "code",
   "execution_count": 17,
   "id": "f710b083",
   "metadata": {},
   "outputs": [],
   "source": [
    "age['ahmed'] = 22#changing value"
   ]
  },
  {
   "cell_type": "code",
   "execution_count": 18,
   "id": "aba6ddec",
   "metadata": {},
   "outputs": [],
   "source": [
    "#Creating series using dictionary"
   ]
  },
  {
   "cell_type": "code",
   "execution_count": 19,
   "id": "7bd2c3fb",
   "metadata": {},
   "outputs": [],
   "source": [
    "age = pd.Series({'ali':23,'ahmed':22,'sarim':21})#key will become index and value will become the data"
   ]
  },
  {
   "cell_type": "code",
   "execution_count": 20,
   "id": "fc45dee2",
   "metadata": {},
   "outputs": [
    {
     "data": {
      "text/plain": [
       "ali      23\n",
       "ahmed    22\n",
       "sarim    21\n",
       "dtype: int64"
      ]
     },
     "execution_count": 20,
     "metadata": {},
     "output_type": "execute_result"
    }
   ],
   "source": [
    "age"
   ]
  },
  {
   "cell_type": "code",
   "execution_count": 21,
   "id": "0a7801a8",
   "metadata": {},
   "outputs": [
    {
     "data": {
      "text/plain": [
       "ali      False\n",
       "ahmed    False\n",
       "sarim    False\n",
       "dtype: bool"
      ]
     },
     "execution_count": 21,
     "metadata": {},
     "output_type": "execute_result"
    }
   ],
   "source": [
    "pd.isnull(age)"
   ]
  },
  {
   "cell_type": "code",
   "execution_count": 22,
   "id": "8f513709",
   "metadata": {},
   "outputs": [
    {
     "data": {
      "text/plain": [
       "22.0"
      ]
     },
     "execution_count": 22,
     "metadata": {},
     "output_type": "execute_result"
    }
   ],
   "source": [
    "age.mean()"
   ]
  },
  {
   "cell_type": "code",
   "execution_count": 23,
   "id": "a2ce6135",
   "metadata": {},
   "outputs": [],
   "source": [
    "age1 = pd.Series([25,26],index=['sarim','ali'])"
   ]
  },
  {
   "cell_type": "code",
   "execution_count": 24,
   "id": "8c5b2a24",
   "metadata": {},
   "outputs": [
    {
     "data": {
      "text/plain": [
       "ahmed     NaN\n",
       "ali      49.0\n",
       "sarim    46.0\n",
       "dtype: float64"
      ]
     },
     "execution_count": 24,
     "metadata": {},
     "output_type": "execute_result"
    }
   ],
   "source": [
    "age+age1 #Adding data of two series"
   ]
  },
  {
   "cell_type": "code",
   "execution_count": 25,
   "id": "64641354",
   "metadata": {},
   "outputs": [],
   "source": [
    "#Dataframes"
   ]
  },
  {
   "cell_type": "code",
   "execution_count": 26,
   "id": "44ab0b56",
   "metadata": {},
   "outputs": [],
   "source": [
    "students = pd.DataFrame ({\n",
    "    'names':['sarim','ahmed','ali'],\n",
    "    'age':[20,21,23],\n",
    "    'cgpa':[3.6,3.5,3.8],\n",
    "    'address':['gulshan','nazimabad','gulzar e hijri']\n",
    "})"
   ]
  },
  {
   "cell_type": "code",
   "execution_count": 27,
   "id": "6add22bc",
   "metadata": {},
   "outputs": [
    {
     "data": {
      "text/html": [
       "<div>\n",
       "<style scoped>\n",
       "    .dataframe tbody tr th:only-of-type {\n",
       "        vertical-align: middle;\n",
       "    }\n",
       "\n",
       "    .dataframe tbody tr th {\n",
       "        vertical-align: top;\n",
       "    }\n",
       "\n",
       "    .dataframe thead th {\n",
       "        text-align: right;\n",
       "    }\n",
       "</style>\n",
       "<table border=\"1\" class=\"dataframe\">\n",
       "  <thead>\n",
       "    <tr style=\"text-align: right;\">\n",
       "      <th></th>\n",
       "      <th>names</th>\n",
       "      <th>age</th>\n",
       "      <th>cgpa</th>\n",
       "      <th>address</th>\n",
       "    </tr>\n",
       "  </thead>\n",
       "  <tbody>\n",
       "    <tr>\n",
       "      <th>0</th>\n",
       "      <td>sarim</td>\n",
       "      <td>20</td>\n",
       "      <td>3.6</td>\n",
       "      <td>gulshan</td>\n",
       "    </tr>\n",
       "    <tr>\n",
       "      <th>1</th>\n",
       "      <td>ahmed</td>\n",
       "      <td>21</td>\n",
       "      <td>3.5</td>\n",
       "      <td>nazimabad</td>\n",
       "    </tr>\n",
       "    <tr>\n",
       "      <th>2</th>\n",
       "      <td>ali</td>\n",
       "      <td>23</td>\n",
       "      <td>3.8</td>\n",
       "      <td>gulzar e hijri</td>\n",
       "    </tr>\n",
       "  </tbody>\n",
       "</table>\n",
       "</div>"
      ],
      "text/plain": [
       "   names  age  cgpa         address\n",
       "0  sarim   20   3.6         gulshan\n",
       "1  ahmed   21   3.5       nazimabad\n",
       "2    ali   23   3.8  gulzar e hijri"
      ]
     },
     "execution_count": 27,
     "metadata": {},
     "output_type": "execute_result"
    }
   ],
   "source": [
    "students"
   ]
  },
  {
   "cell_type": "code",
   "execution_count": 28,
   "id": "a330ed7a",
   "metadata": {},
   "outputs": [
    {
     "data": {
      "text/plain": [
       "Index(['names', 'age', 'cgpa', 'address'], dtype='object')"
      ]
     },
     "execution_count": 28,
     "metadata": {},
     "output_type": "execute_result"
    }
   ],
   "source": [
    "students.columns"
   ]
  },
  {
   "cell_type": "code",
   "execution_count": 29,
   "id": "d61c67e7",
   "metadata": {},
   "outputs": [
    {
     "data": {
      "text/plain": [
       "0    sarim\n",
       "1    ahmed\n",
       "2      ali\n",
       "Name: names, dtype: object"
      ]
     },
     "execution_count": 29,
     "metadata": {},
     "output_type": "execute_result"
    }
   ],
   "source": [
    "students['names']"
   ]
  },
  {
   "cell_type": "code",
   "execution_count": 30,
   "id": "80d38685",
   "metadata": {},
   "outputs": [
    {
     "data": {
      "text/html": [
       "<div>\n",
       "<style scoped>\n",
       "    .dataframe tbody tr th:only-of-type {\n",
       "        vertical-align: middle;\n",
       "    }\n",
       "\n",
       "    .dataframe tbody tr th {\n",
       "        vertical-align: top;\n",
       "    }\n",
       "\n",
       "    .dataframe thead th {\n",
       "        text-align: right;\n",
       "    }\n",
       "</style>\n",
       "<table border=\"1\" class=\"dataframe\">\n",
       "  <thead>\n",
       "    <tr style=\"text-align: right;\">\n",
       "      <th></th>\n",
       "      <th>names</th>\n",
       "      <th>cgpa</th>\n",
       "      <th>address</th>\n",
       "    </tr>\n",
       "  </thead>\n",
       "  <tbody>\n",
       "    <tr>\n",
       "      <th>0</th>\n",
       "      <td>sarim</td>\n",
       "      <td>3.6</td>\n",
       "      <td>gulshan</td>\n",
       "    </tr>\n",
       "    <tr>\n",
       "      <th>1</th>\n",
       "      <td>ahmed</td>\n",
       "      <td>3.5</td>\n",
       "      <td>nazimabad</td>\n",
       "    </tr>\n",
       "    <tr>\n",
       "      <th>2</th>\n",
       "      <td>ali</td>\n",
       "      <td>3.8</td>\n",
       "      <td>gulzar e hijri</td>\n",
       "    </tr>\n",
       "  </tbody>\n",
       "</table>\n",
       "</div>"
      ],
      "text/plain": [
       "   names  cgpa         address\n",
       "0  sarim   3.6         gulshan\n",
       "1  ahmed   3.5       nazimabad\n",
       "2    ali   3.8  gulzar e hijri"
      ]
     },
     "execution_count": 30,
     "metadata": {},
     "output_type": "execute_result"
    }
   ],
   "source": [
    "students[['names','cgpa','address']]"
   ]
  },
  {
   "cell_type": "code",
   "execution_count": 31,
   "id": "f9291240",
   "metadata": {},
   "outputs": [
    {
     "data": {
      "text/html": [
       "<div>\n",
       "<style scoped>\n",
       "    .dataframe tbody tr th:only-of-type {\n",
       "        vertical-align: middle;\n",
       "    }\n",
       "\n",
       "    .dataframe tbody tr th {\n",
       "        vertical-align: top;\n",
       "    }\n",
       "\n",
       "    .dataframe thead th {\n",
       "        text-align: right;\n",
       "    }\n",
       "</style>\n",
       "<table border=\"1\" class=\"dataframe\">\n",
       "  <thead>\n",
       "    <tr style=\"text-align: right;\">\n",
       "      <th></th>\n",
       "      <th>names</th>\n",
       "      <th>age</th>\n",
       "      <th>cgpa</th>\n",
       "      <th>address</th>\n",
       "    </tr>\n",
       "  </thead>\n",
       "  <tbody>\n",
       "    <tr>\n",
       "      <th>1</th>\n",
       "      <td>ahmed</td>\n",
       "      <td>21</td>\n",
       "      <td>3.5</td>\n",
       "      <td>nazimabad</td>\n",
       "    </tr>\n",
       "    <tr>\n",
       "      <th>2</th>\n",
       "      <td>ali</td>\n",
       "      <td>23</td>\n",
       "      <td>3.8</td>\n",
       "      <td>gulzar e hijri</td>\n",
       "    </tr>\n",
       "  </tbody>\n",
       "</table>\n",
       "</div>"
      ],
      "text/plain": [
       "   names  age  cgpa         address\n",
       "1  ahmed   21   3.5       nazimabad\n",
       "2    ali   23   3.8  gulzar e hijri"
      ]
     },
     "execution_count": 31,
     "metadata": {},
     "output_type": "execute_result"
    }
   ],
   "source": [
    "students[students['age']>20] #Students with age greater than 20 filtering"
   ]
  },
  {
   "cell_type": "code",
   "execution_count": 32,
   "id": "ea0fbfa9",
   "metadata": {},
   "outputs": [
    {
     "data": {
      "text/plain": [
       "0    20\n",
       "1    21\n",
       "2    23\n",
       "Name: age, dtype: int64"
      ]
     },
     "execution_count": 32,
     "metadata": {},
     "output_type": "execute_result"
    }
   ],
   "source": [
    "students.age"
   ]
  },
  {
   "cell_type": "code",
   "execution_count": 33,
   "id": "ea610773",
   "metadata": {},
   "outputs": [
    {
     "data": {
      "text/plain": [
       "0    sarim\n",
       "1    ahmed\n",
       "2      ali\n",
       "Name: names, dtype: object"
      ]
     },
     "execution_count": 33,
     "metadata": {},
     "output_type": "execute_result"
    }
   ],
   "source": [
    "students.names"
   ]
  },
  {
   "cell_type": "code",
   "execution_count": 34,
   "id": "d370649d",
   "metadata": {},
   "outputs": [],
   "source": [
    "students['semester'] =  np.arange(1,4)"
   ]
  },
  {
   "cell_type": "code",
   "execution_count": 35,
   "id": "fb33bc66",
   "metadata": {},
   "outputs": [
    {
     "data": {
      "text/html": [
       "<div>\n",
       "<style scoped>\n",
       "    .dataframe tbody tr th:only-of-type {\n",
       "        vertical-align: middle;\n",
       "    }\n",
       "\n",
       "    .dataframe tbody tr th {\n",
       "        vertical-align: top;\n",
       "    }\n",
       "\n",
       "    .dataframe thead th {\n",
       "        text-align: right;\n",
       "    }\n",
       "</style>\n",
       "<table border=\"1\" class=\"dataframe\">\n",
       "  <thead>\n",
       "    <tr style=\"text-align: right;\">\n",
       "      <th></th>\n",
       "      <th>names</th>\n",
       "      <th>age</th>\n",
       "      <th>cgpa</th>\n",
       "      <th>address</th>\n",
       "      <th>semester</th>\n",
       "    </tr>\n",
       "  </thead>\n",
       "  <tbody>\n",
       "    <tr>\n",
       "      <th>0</th>\n",
       "      <td>sarim</td>\n",
       "      <td>20</td>\n",
       "      <td>3.6</td>\n",
       "      <td>gulshan</td>\n",
       "      <td>1</td>\n",
       "    </tr>\n",
       "    <tr>\n",
       "      <th>1</th>\n",
       "      <td>ahmed</td>\n",
       "      <td>21</td>\n",
       "      <td>3.5</td>\n",
       "      <td>nazimabad</td>\n",
       "      <td>2</td>\n",
       "    </tr>\n",
       "    <tr>\n",
       "      <th>2</th>\n",
       "      <td>ali</td>\n",
       "      <td>23</td>\n",
       "      <td>3.8</td>\n",
       "      <td>gulzar e hijri</td>\n",
       "      <td>3</td>\n",
       "    </tr>\n",
       "  </tbody>\n",
       "</table>\n",
       "</div>"
      ],
      "text/plain": [
       "   names  age  cgpa         address  semester\n",
       "0  sarim   20   3.6         gulshan         1\n",
       "1  ahmed   21   3.5       nazimabad         2\n",
       "2    ali   23   3.8  gulzar e hijri         3"
      ]
     },
     "execution_count": 35,
     "metadata": {},
     "output_type": "execute_result"
    }
   ],
   "source": [
    "students"
   ]
  },
  {
   "cell_type": "code",
   "execution_count": 36,
   "id": "ae26af74",
   "metadata": {},
   "outputs": [
    {
     "data": {
      "text/plain": [
       "names                  ali\n",
       "age                     23\n",
       "cgpa                   3.8\n",
       "address     gulzar e hijri\n",
       "semester                 3\n",
       "Name: 2, dtype: object"
      ]
     },
     "execution_count": 36,
     "metadata": {},
     "output_type": "execute_result"
    }
   ],
   "source": [
    "students.loc[2]"
   ]
  },
  {
   "cell_type": "code",
   "execution_count": 37,
   "id": "6558cbae",
   "metadata": {},
   "outputs": [
    {
     "data": {
      "text/plain": [
       "names                  ali\n",
       "age                     23\n",
       "cgpa                   3.8\n",
       "address     gulzar e hijri\n",
       "semester                 3\n",
       "Name: 2, dtype: object"
      ]
     },
     "execution_count": 37,
     "metadata": {},
     "output_type": "execute_result"
    }
   ],
   "source": [
    "students.iloc[2]"
   ]
  },
  {
   "cell_type": "code",
   "execution_count": 38,
   "id": "154fc2a5",
   "metadata": {},
   "outputs": [
    {
     "data": {
      "text/html": [
       "<div>\n",
       "<style scoped>\n",
       "    .dataframe tbody tr th:only-of-type {\n",
       "        vertical-align: middle;\n",
       "    }\n",
       "\n",
       "    .dataframe tbody tr th {\n",
       "        vertical-align: top;\n",
       "    }\n",
       "\n",
       "    .dataframe thead th {\n",
       "        text-align: right;\n",
       "    }\n",
       "</style>\n",
       "<table border=\"1\" class=\"dataframe\">\n",
       "  <thead>\n",
       "    <tr style=\"text-align: right;\">\n",
       "      <th></th>\n",
       "      <th>names</th>\n",
       "      <th>age</th>\n",
       "      <th>cgpa</th>\n",
       "      <th>address</th>\n",
       "      <th>semester</th>\n",
       "    </tr>\n",
       "  </thead>\n",
       "  <tbody>\n",
       "    <tr>\n",
       "      <th>0</th>\n",
       "      <td>sarim</td>\n",
       "      <td>20</td>\n",
       "      <td>3.6</td>\n",
       "      <td>gulshan</td>\n",
       "      <td>1</td>\n",
       "    </tr>\n",
       "    <tr>\n",
       "      <th>1</th>\n",
       "      <td>ahmed</td>\n",
       "      <td>21</td>\n",
       "      <td>3.5</td>\n",
       "      <td>nazimabad</td>\n",
       "      <td>2</td>\n",
       "    </tr>\n",
       "    <tr>\n",
       "      <th>2</th>\n",
       "      <td>ali</td>\n",
       "      <td>23</td>\n",
       "      <td>3.8</td>\n",
       "      <td>gulzar e hijri</td>\n",
       "      <td>3</td>\n",
       "    </tr>\n",
       "  </tbody>\n",
       "</table>\n",
       "</div>"
      ],
      "text/plain": [
       "   names  age  cgpa         address  semester\n",
       "0  sarim   20   3.6         gulshan         1\n",
       "1  ahmed   21   3.5       nazimabad         2\n",
       "2    ali   23   3.8  gulzar e hijri         3"
      ]
     },
     "execution_count": 38,
     "metadata": {},
     "output_type": "execute_result"
    }
   ],
   "source": [
    "students"
   ]
  },
  {
   "cell_type": "code",
   "execution_count": 39,
   "id": "5deb7c20",
   "metadata": {},
   "outputs": [],
   "source": [
    "students.index=[\"s1\",\"s2\",\"s3\"]"
   ]
  },
  {
   "cell_type": "code",
   "execution_count": 40,
   "id": "c459aa15",
   "metadata": {},
   "outputs": [
    {
     "data": {
      "text/html": [
       "<div>\n",
       "<style scoped>\n",
       "    .dataframe tbody tr th:only-of-type {\n",
       "        vertical-align: middle;\n",
       "    }\n",
       "\n",
       "    .dataframe tbody tr th {\n",
       "        vertical-align: top;\n",
       "    }\n",
       "\n",
       "    .dataframe thead th {\n",
       "        text-align: right;\n",
       "    }\n",
       "</style>\n",
       "<table border=\"1\" class=\"dataframe\">\n",
       "  <thead>\n",
       "    <tr style=\"text-align: right;\">\n",
       "      <th></th>\n",
       "      <th>names</th>\n",
       "      <th>age</th>\n",
       "      <th>cgpa</th>\n",
       "      <th>address</th>\n",
       "      <th>semester</th>\n",
       "    </tr>\n",
       "  </thead>\n",
       "  <tbody>\n",
       "    <tr>\n",
       "      <th>s1</th>\n",
       "      <td>sarim</td>\n",
       "      <td>20</td>\n",
       "      <td>3.6</td>\n",
       "      <td>gulshan</td>\n",
       "      <td>1</td>\n",
       "    </tr>\n",
       "    <tr>\n",
       "      <th>s2</th>\n",
       "      <td>ahmed</td>\n",
       "      <td>21</td>\n",
       "      <td>3.5</td>\n",
       "      <td>nazimabad</td>\n",
       "      <td>2</td>\n",
       "    </tr>\n",
       "    <tr>\n",
       "      <th>s3</th>\n",
       "      <td>ali</td>\n",
       "      <td>23</td>\n",
       "      <td>3.8</td>\n",
       "      <td>gulzar e hijri</td>\n",
       "      <td>3</td>\n",
       "    </tr>\n",
       "  </tbody>\n",
       "</table>\n",
       "</div>"
      ],
      "text/plain": [
       "    names  age  cgpa         address  semester\n",
       "s1  sarim   20   3.6         gulshan         1\n",
       "s2  ahmed   21   3.5       nazimabad         2\n",
       "s3    ali   23   3.8  gulzar e hijri         3"
      ]
     },
     "execution_count": 40,
     "metadata": {},
     "output_type": "execute_result"
    }
   ],
   "source": [
    "students"
   ]
  },
  {
   "cell_type": "code",
   "execution_count": 41,
   "id": "79dc6083",
   "metadata": {},
   "outputs": [
    {
     "data": {
      "text/html": [
       "<div>\n",
       "<style scoped>\n",
       "    .dataframe tbody tr th:only-of-type {\n",
       "        vertical-align: middle;\n",
       "    }\n",
       "\n",
       "    .dataframe tbody tr th {\n",
       "        vertical-align: top;\n",
       "    }\n",
       "\n",
       "    .dataframe thead th {\n",
       "        text-align: right;\n",
       "    }\n",
       "</style>\n",
       "<table border=\"1\" class=\"dataframe\">\n",
       "  <thead>\n",
       "    <tr style=\"text-align: right;\">\n",
       "      <th></th>\n",
       "      <th>names</th>\n",
       "      <th>age</th>\n",
       "    </tr>\n",
       "  </thead>\n",
       "  <tbody>\n",
       "    <tr>\n",
       "      <th>s1</th>\n",
       "      <td>sarim</td>\n",
       "      <td>20</td>\n",
       "    </tr>\n",
       "    <tr>\n",
       "      <th>s2</th>\n",
       "      <td>ahmed</td>\n",
       "      <td>21</td>\n",
       "    </tr>\n",
       "  </tbody>\n",
       "</table>\n",
       "</div>"
      ],
      "text/plain": [
       "    names  age\n",
       "s1  sarim   20\n",
       "s2  ahmed   21"
      ]
     },
     "execution_count": 41,
     "metadata": {},
     "output_type": "execute_result"
    }
   ],
   "source": [
    "students.loc[[\"s1\",\"s2\"],[\"names\",\"age\"]]# searching with row and column names"
   ]
  },
  {
   "cell_type": "code",
   "execution_count": 42,
   "id": "13f23439",
   "metadata": {},
   "outputs": [
    {
     "data": {
      "text/html": [
       "<div>\n",
       "<style scoped>\n",
       "    .dataframe tbody tr th:only-of-type {\n",
       "        vertical-align: middle;\n",
       "    }\n",
       "\n",
       "    .dataframe tbody tr th {\n",
       "        vertical-align: top;\n",
       "    }\n",
       "\n",
       "    .dataframe thead th {\n",
       "        text-align: right;\n",
       "    }\n",
       "</style>\n",
       "<table border=\"1\" class=\"dataframe\">\n",
       "  <thead>\n",
       "    <tr style=\"text-align: right;\">\n",
       "      <th></th>\n",
       "      <th>semester</th>\n",
       "      <th>address</th>\n",
       "    </tr>\n",
       "  </thead>\n",
       "  <tbody>\n",
       "    <tr>\n",
       "      <th>s2</th>\n",
       "      <td>2</td>\n",
       "      <td>nazimabad</td>\n",
       "    </tr>\n",
       "    <tr>\n",
       "      <th>s3</th>\n",
       "      <td>3</td>\n",
       "      <td>gulzar e hijri</td>\n",
       "    </tr>\n",
       "  </tbody>\n",
       "</table>\n",
       "</div>"
      ],
      "text/plain": [
       "    semester         address\n",
       "s2         2       nazimabad\n",
       "s3         3  gulzar e hijri"
      ]
     },
     "execution_count": 42,
     "metadata": {},
     "output_type": "execute_result"
    }
   ],
   "source": [
    "students.iloc[[1,2],[4,3]]# searching with row and column indexes"
   ]
  },
  {
   "cell_type": "code",
   "execution_count": 43,
   "id": "6cd95bc9",
   "metadata": {},
   "outputs": [
    {
     "data": {
      "text/plain": [
       "array([['sarim', 20, 3.6, 'gulshan', 1],\n",
       "       ['ahmed', 21, 3.5, 'nazimabad', 2],\n",
       "       ['ali', 23, 3.8, 'gulzar e hijri', 3]], dtype=object)"
      ]
     },
     "execution_count": 43,
     "metadata": {},
     "output_type": "execute_result"
    }
   ],
   "source": [
    "students.values"
   ]
  },
  {
   "cell_type": "code",
   "execution_count": 51,
   "id": "46192651",
   "metadata": {},
   "outputs": [
    {
     "data": {
      "text/html": [
       "<div>\n",
       "<style scoped>\n",
       "    .dataframe tbody tr th:only-of-type {\n",
       "        vertical-align: middle;\n",
       "    }\n",
       "\n",
       "    .dataframe tbody tr th {\n",
       "        vertical-align: top;\n",
       "    }\n",
       "\n",
       "    .dataframe thead th {\n",
       "        text-align: right;\n",
       "    }\n",
       "</style>\n",
       "<table border=\"1\" class=\"dataframe\">\n",
       "  <thead>\n",
       "    <tr style=\"text-align: right;\">\n",
       "      <th></th>\n",
       "      <th>names</th>\n",
       "      <th>age</th>\n",
       "      <th>cgpa</th>\n",
       "      <th>address</th>\n",
       "      <th>semester</th>\n",
       "    </tr>\n",
       "  </thead>\n",
       "  <tbody>\n",
       "    <tr>\n",
       "      <th>s2</th>\n",
       "      <td>ahmed</td>\n",
       "      <td>21</td>\n",
       "      <td>3.5</td>\n",
       "      <td>nazimabad</td>\n",
       "      <td>2</td>\n",
       "    </tr>\n",
       "    <tr>\n",
       "      <th>s3</th>\n",
       "      <td>ali</td>\n",
       "      <td>23</td>\n",
       "      <td>3.8</td>\n",
       "      <td>gulzar e hijri</td>\n",
       "      <td>3</td>\n",
       "    </tr>\n",
       "  </tbody>\n",
       "</table>\n",
       "</div>"
      ],
      "text/plain": [
       "    names  age  cgpa         address  semester\n",
       "s2  ahmed   21   3.5       nazimabad         2\n",
       "s3    ali   23   3.8  gulzar e hijri         3"
      ]
     },
     "execution_count": 51,
     "metadata": {},
     "output_type": "execute_result"
    }
   ],
   "source": [
    "students.drop(\"s1\",axis=0)#removing specific row"
   ]
  },
  {
   "cell_type": "code",
   "execution_count": 54,
   "id": "c2124c0a",
   "metadata": {},
   "outputs": [
    {
     "data": {
      "text/html": [
       "<div>\n",
       "<style scoped>\n",
       "    .dataframe tbody tr th:only-of-type {\n",
       "        vertical-align: middle;\n",
       "    }\n",
       "\n",
       "    .dataframe tbody tr th {\n",
       "        vertical-align: top;\n",
       "    }\n",
       "\n",
       "    .dataframe thead th {\n",
       "        text-align: right;\n",
       "    }\n",
       "</style>\n",
       "<table border=\"1\" class=\"dataframe\">\n",
       "  <thead>\n",
       "    <tr style=\"text-align: right;\">\n",
       "      <th></th>\n",
       "      <th>age</th>\n",
       "      <th>cgpa</th>\n",
       "      <th>address</th>\n",
       "      <th>semester</th>\n",
       "    </tr>\n",
       "  </thead>\n",
       "  <tbody>\n",
       "    <tr>\n",
       "      <th>s1</th>\n",
       "      <td>20</td>\n",
       "      <td>3.6</td>\n",
       "      <td>gulshan</td>\n",
       "      <td>1</td>\n",
       "    </tr>\n",
       "    <tr>\n",
       "      <th>s2</th>\n",
       "      <td>21</td>\n",
       "      <td>3.5</td>\n",
       "      <td>nazimabad</td>\n",
       "      <td>2</td>\n",
       "    </tr>\n",
       "    <tr>\n",
       "      <th>s3</th>\n",
       "      <td>23</td>\n",
       "      <td>3.8</td>\n",
       "      <td>gulzar e hijri</td>\n",
       "      <td>3</td>\n",
       "    </tr>\n",
       "  </tbody>\n",
       "</table>\n",
       "</div>"
      ],
      "text/plain": [
       "    age  cgpa         address  semester\n",
       "s1   20   3.6         gulshan         1\n",
       "s2   21   3.5       nazimabad         2\n",
       "s3   23   3.8  gulzar e hijri         3"
      ]
     },
     "execution_count": 54,
     "metadata": {},
     "output_type": "execute_result"
    }
   ],
   "source": [
    "students.drop(\"names\",axis=1)#removing specific column"
   ]
  },
  {
   "cell_type": "code",
   "execution_count": 59,
   "id": "bd3bd596",
   "metadata": {},
   "outputs": [],
   "source": [
    "students.values\n",
    "arr = np.array([['sarim', 20, 3.6, 'gulshan', 1],\n",
    "       ['ahmed', 21, 3.5, 'nazimabad', 2],\n",
    "       ['ali', 23, 3.8, 'gulzar e hijri', 3]])"
   ]
  },
  {
   "cell_type": "code",
   "execution_count": 65,
   "id": "ce2f0bb2",
   "metadata": {},
   "outputs": [],
   "source": [
    "df = pd.DataFrame(arr,columns=[\"names\",\"age\",\"cgpa\",\"address\",\"semester\"],index=[\"s1\",\"s2\",\"s3\"]) #assigning names to columns and rows"
   ]
  },
  {
   "cell_type": "code",
   "execution_count": 63,
   "id": "83a40f86",
   "metadata": {},
   "outputs": [],
   "source": [
    "#slicing"
   ]
  },
  {
   "cell_type": "code",
   "execution_count": 67,
   "id": "dae99ac2",
   "metadata": {},
   "outputs": [
    {
     "data": {
      "text/html": [
       "<div>\n",
       "<style scoped>\n",
       "    .dataframe tbody tr th:only-of-type {\n",
       "        vertical-align: middle;\n",
       "    }\n",
       "\n",
       "    .dataframe tbody tr th {\n",
       "        vertical-align: top;\n",
       "    }\n",
       "\n",
       "    .dataframe thead th {\n",
       "        text-align: right;\n",
       "    }\n",
       "</style>\n",
       "<table border=\"1\" class=\"dataframe\">\n",
       "  <thead>\n",
       "    <tr style=\"text-align: right;\">\n",
       "      <th></th>\n",
       "      <th>names</th>\n",
       "      <th>age</th>\n",
       "      <th>cgpa</th>\n",
       "      <th>address</th>\n",
       "      <th>semester</th>\n",
       "    </tr>\n",
       "  </thead>\n",
       "  <tbody>\n",
       "    <tr>\n",
       "      <th>s1</th>\n",
       "      <td>sarim</td>\n",
       "      <td>20</td>\n",
       "      <td>3.6</td>\n",
       "      <td>gulshan</td>\n",
       "      <td>1</td>\n",
       "    </tr>\n",
       "    <tr>\n",
       "      <th>s3</th>\n",
       "      <td>ali</td>\n",
       "      <td>23</td>\n",
       "      <td>3.8</td>\n",
       "      <td>gulzar e hijri</td>\n",
       "      <td>3</td>\n",
       "    </tr>\n",
       "  </tbody>\n",
       "</table>\n",
       "</div>"
      ],
      "text/plain": [
       "    names age cgpa         address semester\n",
       "s1  sarim  20  3.6         gulshan        1\n",
       "s3    ali  23  3.8  gulzar e hijri        3"
      ]
     },
     "execution_count": 67,
     "metadata": {},
     "output_type": "execute_result"
    }
   ],
   "source": [
    "df.iloc[0:3:2]#start,end,step "
   ]
  },
  {
   "cell_type": "code",
   "execution_count": 69,
   "id": "2fb012a9",
   "metadata": {},
   "outputs": [
    {
     "data": {
      "text/plain": [
       "s1    1\n",
       "s3    3\n",
       "Name: semester, dtype: object"
      ]
     },
     "execution_count": 69,
     "metadata": {},
     "output_type": "execute_result"
    }
   ],
   "source": [
    "df.iloc[0:3:2][\"semester\"]# accessing specific rows and column by slicing"
   ]
  },
  {
   "cell_type": "code",
   "execution_count": 70,
   "id": "be650982",
   "metadata": {},
   "outputs": [
    {
     "data": {
      "text/html": [
       "<div>\n",
       "<style scoped>\n",
       "    .dataframe tbody tr th:only-of-type {\n",
       "        vertical-align: middle;\n",
       "    }\n",
       "\n",
       "    .dataframe tbody tr th {\n",
       "        vertical-align: top;\n",
       "    }\n",
       "\n",
       "    .dataframe thead th {\n",
       "        text-align: right;\n",
       "    }\n",
       "</style>\n",
       "<table border=\"1\" class=\"dataframe\">\n",
       "  <thead>\n",
       "    <tr style=\"text-align: right;\">\n",
       "      <th></th>\n",
       "      <th>names</th>\n",
       "      <th>age</th>\n",
       "      <th>cgpa</th>\n",
       "      <th>address</th>\n",
       "    </tr>\n",
       "  </thead>\n",
       "  <tbody>\n",
       "    <tr>\n",
       "      <th>s1</th>\n",
       "      <td>sarim</td>\n",
       "      <td>20</td>\n",
       "      <td>3.6</td>\n",
       "      <td>gulshan</td>\n",
       "    </tr>\n",
       "    <tr>\n",
       "      <th>s2</th>\n",
       "      <td>ahmed</td>\n",
       "      <td>21</td>\n",
       "      <td>3.5</td>\n",
       "      <td>nazimabad</td>\n",
       "    </tr>\n",
       "    <tr>\n",
       "      <th>s3</th>\n",
       "      <td>ali</td>\n",
       "      <td>23</td>\n",
       "      <td>3.8</td>\n",
       "      <td>gulzar e hijri</td>\n",
       "    </tr>\n",
       "  </tbody>\n",
       "</table>\n",
       "</div>"
      ],
      "text/plain": [
       "    names age cgpa         address\n",
       "s1  sarim  20  3.6         gulshan\n",
       "s2  ahmed  21  3.5       nazimabad\n",
       "s3    ali  23  3.8  gulzar e hijri"
      ]
     },
     "execution_count": 70,
     "metadata": {},
     "output_type": "execute_result"
    }
   ],
   "source": [
    "df.loc[:,\"names\":\"address\"]"
   ]
  },
  {
   "cell_type": "code",
   "execution_count": 71,
   "id": "90f8853e",
   "metadata": {},
   "outputs": [],
   "source": [
    "#Apply function"
   ]
  },
  {
   "cell_type": "code",
   "execution_count": 90,
   "id": "ca9537e3",
   "metadata": {},
   "outputs": [],
   "source": [
    "def age_check(Age):\n",
    "    if(Age <= 20):\n",
    "        return \"under 20 or 20\"\n",
    "    else:\n",
    "        return \"over 20\""
   ]
  },
  {
   "cell_type": "code",
   "execution_count": 91,
   "id": "f334a0c2",
   "metadata": {
    "scrolled": true
   },
   "outputs": [],
   "source": [
    "df['age']=df['age'].astype(int)"
   ]
  },
  {
   "cell_type": "code",
   "execution_count": 92,
   "id": "fb91fe59",
   "metadata": {
    "scrolled": true
   },
   "outputs": [],
   "source": [
    "df['age_category'] = df['age'].apply(age_check)\n"
   ]
  },
  {
   "cell_type": "code",
   "execution_count": 93,
   "id": "e8a56abd",
   "metadata": {},
   "outputs": [
    {
     "data": {
      "text/html": [
       "<div>\n",
       "<style scoped>\n",
       "    .dataframe tbody tr th:only-of-type {\n",
       "        vertical-align: middle;\n",
       "    }\n",
       "\n",
       "    .dataframe tbody tr th {\n",
       "        vertical-align: top;\n",
       "    }\n",
       "\n",
       "    .dataframe thead th {\n",
       "        text-align: right;\n",
       "    }\n",
       "</style>\n",
       "<table border=\"1\" class=\"dataframe\">\n",
       "  <thead>\n",
       "    <tr style=\"text-align: right;\">\n",
       "      <th></th>\n",
       "      <th>names</th>\n",
       "      <th>age</th>\n",
       "      <th>cgpa</th>\n",
       "      <th>address</th>\n",
       "      <th>semester</th>\n",
       "      <th>age_category</th>\n",
       "    </tr>\n",
       "  </thead>\n",
       "  <tbody>\n",
       "    <tr>\n",
       "      <th>s1</th>\n",
       "      <td>sarim</td>\n",
       "      <td>20</td>\n",
       "      <td>3.6</td>\n",
       "      <td>gulshan</td>\n",
       "      <td>1</td>\n",
       "      <td>under 20 or 20</td>\n",
       "    </tr>\n",
       "    <tr>\n",
       "      <th>s2</th>\n",
       "      <td>ahmed</td>\n",
       "      <td>21</td>\n",
       "      <td>3.5</td>\n",
       "      <td>nazimabad</td>\n",
       "      <td>2</td>\n",
       "      <td>over 20</td>\n",
       "    </tr>\n",
       "    <tr>\n",
       "      <th>s3</th>\n",
       "      <td>ali</td>\n",
       "      <td>23</td>\n",
       "      <td>3.8</td>\n",
       "      <td>gulzar e hijri</td>\n",
       "      <td>3</td>\n",
       "      <td>over 20</td>\n",
       "    </tr>\n",
       "  </tbody>\n",
       "</table>\n",
       "</div>"
      ],
      "text/plain": [
       "    names  age cgpa         address semester    age_category\n",
       "s1  sarim   20  3.6         gulshan        1  under 20 or 20\n",
       "s2  ahmed   21  3.5       nazimabad        2         over 20\n",
       "s3    ali   23  3.8  gulzar e hijri        3         over 20"
      ]
     },
     "execution_count": 93,
     "metadata": {},
     "output_type": "execute_result"
    }
   ],
   "source": [
    "df"
   ]
  },
  {
   "cell_type": "code",
   "execution_count": 94,
   "id": "98eb8fe0",
   "metadata": {},
   "outputs": [],
   "source": [
    "#lambda function"
   ]
  },
  {
   "cell_type": "code",
   "execution_count": 97,
   "id": "8b3ba4cd",
   "metadata": {},
   "outputs": [],
   "source": [
    "age_checker = lambda age: \"over 20\" if age > 20 else \"under 20 or 20\""
   ]
  },
  {
   "cell_type": "code",
   "execution_count": 98,
   "id": "644ba2de",
   "metadata": {},
   "outputs": [],
   "source": [
    "df['age_category2'] = df['age'].apply(age_checker)\n"
   ]
  },
  {
   "cell_type": "code",
   "execution_count": 99,
   "id": "bd681afb",
   "metadata": {},
   "outputs": [
    {
     "data": {
      "text/html": [
       "<div>\n",
       "<style scoped>\n",
       "    .dataframe tbody tr th:only-of-type {\n",
       "        vertical-align: middle;\n",
       "    }\n",
       "\n",
       "    .dataframe tbody tr th {\n",
       "        vertical-align: top;\n",
       "    }\n",
       "\n",
       "    .dataframe thead th {\n",
       "        text-align: right;\n",
       "    }\n",
       "</style>\n",
       "<table border=\"1\" class=\"dataframe\">\n",
       "  <thead>\n",
       "    <tr style=\"text-align: right;\">\n",
       "      <th></th>\n",
       "      <th>names</th>\n",
       "      <th>age</th>\n",
       "      <th>cgpa</th>\n",
       "      <th>address</th>\n",
       "      <th>semester</th>\n",
       "      <th>age_category</th>\n",
       "      <th>age_category2</th>\n",
       "    </tr>\n",
       "  </thead>\n",
       "  <tbody>\n",
       "    <tr>\n",
       "      <th>s1</th>\n",
       "      <td>sarim</td>\n",
       "      <td>20</td>\n",
       "      <td>3.6</td>\n",
       "      <td>gulshan</td>\n",
       "      <td>1</td>\n",
       "      <td>under 20 or 20</td>\n",
       "      <td>under 20 or 20</td>\n",
       "    </tr>\n",
       "    <tr>\n",
       "      <th>s2</th>\n",
       "      <td>ahmed</td>\n",
       "      <td>21</td>\n",
       "      <td>3.5</td>\n",
       "      <td>nazimabad</td>\n",
       "      <td>2</td>\n",
       "      <td>over 20</td>\n",
       "      <td>over 20</td>\n",
       "    </tr>\n",
       "    <tr>\n",
       "      <th>s3</th>\n",
       "      <td>ali</td>\n",
       "      <td>23</td>\n",
       "      <td>3.8</td>\n",
       "      <td>gulzar e hijri</td>\n",
       "      <td>3</td>\n",
       "      <td>over 20</td>\n",
       "      <td>over 20</td>\n",
       "    </tr>\n",
       "  </tbody>\n",
       "</table>\n",
       "</div>"
      ],
      "text/plain": [
       "    names  age cgpa         address semester    age_category   age_category2\n",
       "s1  sarim   20  3.6         gulshan        1  under 20 or 20  under 20 or 20\n",
       "s2  ahmed   21  3.5       nazimabad        2         over 20         over 20\n",
       "s3    ali   23  3.8  gulzar e hijri        3         over 20         over 20"
      ]
     },
     "execution_count": 99,
     "metadata": {},
     "output_type": "execute_result"
    }
   ],
   "source": [
    "df"
   ]
  },
  {
   "cell_type": "code",
   "execution_count": 100,
   "id": "fc338dbf",
   "metadata": {},
   "outputs": [],
   "source": [
    "employee = pd.DataFrame({\n",
    "    \"salary\":[1000,2000,3000],\n",
    "    \"name\":[\"sarim\",\"ahmed\",\"moosa\"]\n",
    "})"
   ]
  },
  {
   "cell_type": "code",
   "execution_count": 101,
   "id": "ded18a75",
   "metadata": {},
   "outputs": [
    {
     "data": {
      "text/html": [
       "<div>\n",
       "<style scoped>\n",
       "    .dataframe tbody tr th:only-of-type {\n",
       "        vertical-align: middle;\n",
       "    }\n",
       "\n",
       "    .dataframe tbody tr th {\n",
       "        vertical-align: top;\n",
       "    }\n",
       "\n",
       "    .dataframe thead th {\n",
       "        text-align: right;\n",
       "    }\n",
       "</style>\n",
       "<table border=\"1\" class=\"dataframe\">\n",
       "  <thead>\n",
       "    <tr style=\"text-align: right;\">\n",
       "      <th></th>\n",
       "      <th>salary</th>\n",
       "      <th>name</th>\n",
       "    </tr>\n",
       "  </thead>\n",
       "  <tbody>\n",
       "    <tr>\n",
       "      <th>0</th>\n",
       "      <td>1000</td>\n",
       "      <td>sarim</td>\n",
       "    </tr>\n",
       "    <tr>\n",
       "      <th>1</th>\n",
       "      <td>2000</td>\n",
       "      <td>ahmed</td>\n",
       "    </tr>\n",
       "    <tr>\n",
       "      <th>2</th>\n",
       "      <td>3000</td>\n",
       "      <td>moosa</td>\n",
       "    </tr>\n",
       "  </tbody>\n",
       "</table>\n",
       "</div>"
      ],
      "text/plain": [
       "   salary   name\n",
       "0    1000  sarim\n",
       "1    2000  ahmed\n",
       "2    3000  moosa"
      ]
     },
     "execution_count": 101,
     "metadata": {},
     "output_type": "execute_result"
    }
   ],
   "source": [
    "employee"
   ]
  },
  {
   "cell_type": "code",
   "execution_count": 104,
   "id": "057a1c74",
   "metadata": {},
   "outputs": [],
   "source": [
    "employee['increment']=employee['salary'].apply(lambda salary:50 if salary <= 1000 else 25)"
   ]
  },
  {
   "cell_type": "code",
   "execution_count": 105,
   "id": "fb02801a",
   "metadata": {},
   "outputs": [
    {
     "data": {
      "text/html": [
       "<div>\n",
       "<style scoped>\n",
       "    .dataframe tbody tr th:only-of-type {\n",
       "        vertical-align: middle;\n",
       "    }\n",
       "\n",
       "    .dataframe tbody tr th {\n",
       "        vertical-align: top;\n",
       "    }\n",
       "\n",
       "    .dataframe thead th {\n",
       "        text-align: right;\n",
       "    }\n",
       "</style>\n",
       "<table border=\"1\" class=\"dataframe\">\n",
       "  <thead>\n",
       "    <tr style=\"text-align: right;\">\n",
       "      <th></th>\n",
       "      <th>salary</th>\n",
       "      <th>name</th>\n",
       "      <th>increment</th>\n",
       "    </tr>\n",
       "  </thead>\n",
       "  <tbody>\n",
       "    <tr>\n",
       "      <th>0</th>\n",
       "      <td>1000</td>\n",
       "      <td>sarim</td>\n",
       "      <td>50</td>\n",
       "    </tr>\n",
       "    <tr>\n",
       "      <th>1</th>\n",
       "      <td>2000</td>\n",
       "      <td>ahmed</td>\n",
       "      <td>25</td>\n",
       "    </tr>\n",
       "    <tr>\n",
       "      <th>2</th>\n",
       "      <td>3000</td>\n",
       "      <td>moosa</td>\n",
       "      <td>25</td>\n",
       "    </tr>\n",
       "  </tbody>\n",
       "</table>\n",
       "</div>"
      ],
      "text/plain": [
       "   salary   name  increment\n",
       "0    1000  sarim         50\n",
       "1    2000  ahmed         25\n",
       "2    3000  moosa         25"
      ]
     },
     "execution_count": 105,
     "metadata": {},
     "output_type": "execute_result"
    }
   ],
   "source": [
    "employee"
   ]
  },
  {
   "cell_type": "code",
   "execution_count": null,
   "id": "db7a6960",
   "metadata": {},
   "outputs": [],
   "source": []
  }
 ],
 "metadata": {
  "kernelspec": {
   "display_name": "Python 3 (ipykernel)",
   "language": "python",
   "name": "python3"
  },
  "language_info": {
   "codemirror_mode": {
    "name": "ipython",
    "version": 3
   },
   "file_extension": ".py",
   "mimetype": "text/x-python",
   "name": "python",
   "nbconvert_exporter": "python",
   "pygments_lexer": "ipython3",
   "version": "3.10.9"
  }
 },
 "nbformat": 4,
 "nbformat_minor": 5
}
