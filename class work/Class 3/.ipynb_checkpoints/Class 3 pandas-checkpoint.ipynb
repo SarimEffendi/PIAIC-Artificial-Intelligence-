{
 "cells": [
  {
   "cell_type": "code",
   "execution_count": 1,
   "id": "95b0df95",
   "metadata": {},
   "outputs": [],
   "source": [
    "#pandas \n",
    "#uses of pandas\n",
    "#Data cleaning, normalization and transformation\n",
    "#designed for working with tabular or heterogeneous data(diverse in nature can consists of different types,formats,structures and sources)"
   ]
  },
  {
   "cell_type": "code",
   "execution_count": 33,
   "id": "5eb3a06a",
   "metadata": {},
   "outputs": [],
   "source": [
    "import pandas as pd\n",
    "import numpy as np"
   ]
  },
  {
   "cell_type": "code",
   "execution_count": 3,
   "id": "34ebdd42",
   "metadata": {},
   "outputs": [],
   "source": [
    "#series - A series of data (1 dimensional)\n",
    "#Dataframes - Tabular data (2 dimensional)"
   ]
  },
  {
   "cell_type": "code",
   "execution_count": 4,
   "id": "9f67853f",
   "metadata": {},
   "outputs": [],
   "source": [
    "marks = pd.Series([80,70,60]) "
   ]
  },
  {
   "cell_type": "code",
   "execution_count": 5,
   "id": "1672693a",
   "metadata": {},
   "outputs": [
    {
     "data": {
      "text/plain": [
       "0    80\n",
       "1    70\n",
       "2    60\n",
       "dtype: int64"
      ]
     },
     "execution_count": 5,
     "metadata": {},
     "output_type": "execute_result"
    }
   ],
   "source": [
    "marks"
   ]
  },
  {
   "cell_type": "code",
   "execution_count": 6,
   "id": "08deb805",
   "metadata": {},
   "outputs": [
    {
     "data": {
      "text/plain": [
       "70"
      ]
     },
     "execution_count": 6,
     "metadata": {},
     "output_type": "execute_result"
    }
   ],
   "source": [
    "marks[1]"
   ]
  },
  {
   "cell_type": "code",
   "execution_count": 7,
   "id": "d357722e",
   "metadata": {},
   "outputs": [],
   "source": [
    "#specifying indexes"
   ]
  },
  {
   "cell_type": "code",
   "execution_count": 8,
   "id": "fb41e05a",
   "metadata": {},
   "outputs": [],
   "source": [
    "marks = pd.Series([80,70,90], index=['ali','ahmed','sarim'])"
   ]
  },
  {
   "cell_type": "code",
   "execution_count": 9,
   "id": "2813e6ac",
   "metadata": {},
   "outputs": [
    {
     "data": {
      "text/plain": [
       "80"
      ]
     },
     "execution_count": 9,
     "metadata": {},
     "output_type": "execute_result"
    }
   ],
   "source": [
    "marks['ali']"
   ]
  },
  {
   "cell_type": "code",
   "execution_count": 10,
   "id": "546b29a0",
   "metadata": {},
   "outputs": [],
   "source": [
    "#datatypes"
   ]
  },
  {
   "cell_type": "code",
   "execution_count": 11,
   "id": "474ce32b",
   "metadata": {},
   "outputs": [],
   "source": [
    "age = pd.Series([22,21,20],index=['ali','ahmed','sarim'],dtype='float')"
   ]
  },
  {
   "cell_type": "code",
   "execution_count": 12,
   "id": "f5935e84",
   "metadata": {},
   "outputs": [
    {
     "data": {
      "text/plain": [
       "ali      22.0\n",
       "ahmed    21.0\n",
       "sarim    20.0\n",
       "dtype: float64"
      ]
     },
     "execution_count": 12,
     "metadata": {},
     "output_type": "execute_result"
    }
   ],
   "source": [
    "age"
   ]
  },
  {
   "cell_type": "code",
   "execution_count": 13,
   "id": "043d162d",
   "metadata": {},
   "outputs": [],
   "source": [
    "#some conditions"
   ]
  },
  {
   "cell_type": "code",
   "execution_count": 14,
   "id": "c37c11aa",
   "metadata": {},
   "outputs": [
    {
     "data": {
      "text/plain": [
       "ali      22.0\n",
       "ahmed    21.0\n",
       "dtype: float64"
      ]
     },
     "execution_count": 14,
     "metadata": {},
     "output_type": "execute_result"
    }
   ],
   "source": [
    "age[age>20]#filtering"
   ]
  },
  {
   "cell_type": "code",
   "execution_count": 15,
   "id": "8fc7e173",
   "metadata": {},
   "outputs": [
    {
     "data": {
      "text/plain": [
       "sarim    20.0\n",
       "ali      22.0\n",
       "dtype: float64"
      ]
     },
     "execution_count": 15,
     "metadata": {},
     "output_type": "execute_result"
    }
   ],
   "source": [
    "age[['sarim','ali']] #fancy indexing"
   ]
  },
  {
   "cell_type": "code",
   "execution_count": 16,
   "id": "f710b083",
   "metadata": {},
   "outputs": [],
   "source": [
    "age['ahmed'] = 22#changing value"
   ]
  },
  {
   "cell_type": "code",
   "execution_count": 17,
   "id": "aba6ddec",
   "metadata": {},
   "outputs": [],
   "source": [
    "#Creating series using dictionary"
   ]
  },
  {
   "cell_type": "code",
   "execution_count": 18,
   "id": "7bd2c3fb",
   "metadata": {},
   "outputs": [],
   "source": [
    "age = pd.Series({'ali':23,'ahmed':22,'sarim':21})#key will become index and value will become the data"
   ]
  },
  {
   "cell_type": "code",
   "execution_count": 19,
   "id": "fc45dee2",
   "metadata": {},
   "outputs": [
    {
     "data": {
      "text/plain": [
       "ali      23\n",
       "ahmed    22\n",
       "sarim    21\n",
       "dtype: int64"
      ]
     },
     "execution_count": 19,
     "metadata": {},
     "output_type": "execute_result"
    }
   ],
   "source": [
    "age"
   ]
  },
  {
   "cell_type": "code",
   "execution_count": 20,
   "id": "0a7801a8",
   "metadata": {},
   "outputs": [
    {
     "data": {
      "text/plain": [
       "ali      False\n",
       "ahmed    False\n",
       "sarim    False\n",
       "dtype: bool"
      ]
     },
     "execution_count": 20,
     "metadata": {},
     "output_type": "execute_result"
    }
   ],
   "source": [
    "pd.isnull(age)"
   ]
  },
  {
   "cell_type": "code",
   "execution_count": 21,
   "id": "8f513709",
   "metadata": {},
   "outputs": [
    {
     "data": {
      "text/plain": [
       "22.0"
      ]
     },
     "execution_count": 21,
     "metadata": {},
     "output_type": "execute_result"
    }
   ],
   "source": [
    "age.mean()"
   ]
  },
  {
   "cell_type": "code",
   "execution_count": 22,
   "id": "a2ce6135",
   "metadata": {},
   "outputs": [],
   "source": [
    "age1 = pd.Series([25,26],index=['sarim','ali'])"
   ]
  },
  {
   "cell_type": "code",
   "execution_count": 23,
   "id": "8c5b2a24",
   "metadata": {},
   "outputs": [
    {
     "data": {
      "text/plain": [
       "ahmed     NaN\n",
       "ali      49.0\n",
       "sarim    46.0\n",
       "dtype: float64"
      ]
     },
     "execution_count": 23,
     "metadata": {},
     "output_type": "execute_result"
    }
   ],
   "source": [
    "age+age1 #Adding data of two series"
   ]
  },
  {
   "cell_type": "code",
   "execution_count": null,
   "id": "64641354",
   "metadata": {},
   "outputs": [],
   "source": [
    "#Dataframes"
   ]
  },
  {
   "cell_type": "code",
   "execution_count": 25,
   "id": "44ab0b56",
   "metadata": {},
   "outputs": [],
   "source": [
    "students = pd.DataFrame ({\n",
    "    'names':['sarim','ahmed','ali'],\n",
    "    'age':[20,21,23],\n",
    "    'cgpa':[3.6,3.5,3.8],\n",
    "    'address':['gulshan','nazimabad','gulzar e hijri']\n",
    "})"
   ]
  },
  {
   "cell_type": "code",
   "execution_count": 26,
   "id": "6add22bc",
   "metadata": {},
   "outputs": [
    {
     "data": {
      "text/html": [
       "<div>\n",
       "<style scoped>\n",
       "    .dataframe tbody tr th:only-of-type {\n",
       "        vertical-align: middle;\n",
       "    }\n",
       "\n",
       "    .dataframe tbody tr th {\n",
       "        vertical-align: top;\n",
       "    }\n",
       "\n",
       "    .dataframe thead th {\n",
       "        text-align: right;\n",
       "    }\n",
       "</style>\n",
       "<table border=\"1\" class=\"dataframe\">\n",
       "  <thead>\n",
       "    <tr style=\"text-align: right;\">\n",
       "      <th></th>\n",
       "      <th>names</th>\n",
       "      <th>age</th>\n",
       "      <th>cgpa</th>\n",
       "      <th>address</th>\n",
       "    </tr>\n",
       "  </thead>\n",
       "  <tbody>\n",
       "    <tr>\n",
       "      <th>0</th>\n",
       "      <td>sarim</td>\n",
       "      <td>20</td>\n",
       "      <td>3.6</td>\n",
       "      <td>gulshan</td>\n",
       "    </tr>\n",
       "    <tr>\n",
       "      <th>1</th>\n",
       "      <td>ahmed</td>\n",
       "      <td>21</td>\n",
       "      <td>3.5</td>\n",
       "      <td>nazimabad</td>\n",
       "    </tr>\n",
       "    <tr>\n",
       "      <th>2</th>\n",
       "      <td>ali</td>\n",
       "      <td>23</td>\n",
       "      <td>3.8</td>\n",
       "      <td>gulzar e hijri</td>\n",
       "    </tr>\n",
       "  </tbody>\n",
       "</table>\n",
       "</div>"
      ],
      "text/plain": [
       "   names  age  cgpa         address\n",
       "0  sarim   20   3.6         gulshan\n",
       "1  ahmed   21   3.5       nazimabad\n",
       "2    ali   23   3.8  gulzar e hijri"
      ]
     },
     "execution_count": 26,
     "metadata": {},
     "output_type": "execute_result"
    }
   ],
   "source": [
    "students"
   ]
  },
  {
   "cell_type": "code",
   "execution_count": 27,
   "id": "a330ed7a",
   "metadata": {},
   "outputs": [
    {
     "data": {
      "text/plain": [
       "Index(['names', 'age', 'cgpa', 'address'], dtype='object')"
      ]
     },
     "execution_count": 27,
     "metadata": {},
     "output_type": "execute_result"
    }
   ],
   "source": [
    "students.columns"
   ]
  },
  {
   "cell_type": "code",
   "execution_count": 28,
   "id": "d61c67e7",
   "metadata": {},
   "outputs": [
    {
     "data": {
      "text/plain": [
       "0    sarim\n",
       "1    ahmed\n",
       "2      ali\n",
       "Name: names, dtype: object"
      ]
     },
     "execution_count": 28,
     "metadata": {},
     "output_type": "execute_result"
    }
   ],
   "source": [
    "students['names']"
   ]
  },
  {
   "cell_type": "code",
   "execution_count": 29,
   "id": "80d38685",
   "metadata": {},
   "outputs": [
    {
     "data": {
      "text/html": [
       "<div>\n",
       "<style scoped>\n",
       "    .dataframe tbody tr th:only-of-type {\n",
       "        vertical-align: middle;\n",
       "    }\n",
       "\n",
       "    .dataframe tbody tr th {\n",
       "        vertical-align: top;\n",
       "    }\n",
       "\n",
       "    .dataframe thead th {\n",
       "        text-align: right;\n",
       "    }\n",
       "</style>\n",
       "<table border=\"1\" class=\"dataframe\">\n",
       "  <thead>\n",
       "    <tr style=\"text-align: right;\">\n",
       "      <th></th>\n",
       "      <th>names</th>\n",
       "      <th>cgpa</th>\n",
       "      <th>address</th>\n",
       "    </tr>\n",
       "  </thead>\n",
       "  <tbody>\n",
       "    <tr>\n",
       "      <th>0</th>\n",
       "      <td>sarim</td>\n",
       "      <td>3.6</td>\n",
       "      <td>gulshan</td>\n",
       "    </tr>\n",
       "    <tr>\n",
       "      <th>1</th>\n",
       "      <td>ahmed</td>\n",
       "      <td>3.5</td>\n",
       "      <td>nazimabad</td>\n",
       "    </tr>\n",
       "    <tr>\n",
       "      <th>2</th>\n",
       "      <td>ali</td>\n",
       "      <td>3.8</td>\n",
       "      <td>gulzar e hijri</td>\n",
       "    </tr>\n",
       "  </tbody>\n",
       "</table>\n",
       "</div>"
      ],
      "text/plain": [
       "   names  cgpa         address\n",
       "0  sarim   3.6         gulshan\n",
       "1  ahmed   3.5       nazimabad\n",
       "2    ali   3.8  gulzar e hijri"
      ]
     },
     "execution_count": 29,
     "metadata": {},
     "output_type": "execute_result"
    }
   ],
   "source": [
    "students[['names','cgpa','address']]"
   ]
  },
  {
   "cell_type": "code",
   "execution_count": 30,
   "id": "f9291240",
   "metadata": {},
   "outputs": [
    {
     "data": {
      "text/html": [
       "<div>\n",
       "<style scoped>\n",
       "    .dataframe tbody tr th:only-of-type {\n",
       "        vertical-align: middle;\n",
       "    }\n",
       "\n",
       "    .dataframe tbody tr th {\n",
       "        vertical-align: top;\n",
       "    }\n",
       "\n",
       "    .dataframe thead th {\n",
       "        text-align: right;\n",
       "    }\n",
       "</style>\n",
       "<table border=\"1\" class=\"dataframe\">\n",
       "  <thead>\n",
       "    <tr style=\"text-align: right;\">\n",
       "      <th></th>\n",
       "      <th>names</th>\n",
       "      <th>age</th>\n",
       "      <th>cgpa</th>\n",
       "      <th>address</th>\n",
       "    </tr>\n",
       "  </thead>\n",
       "  <tbody>\n",
       "    <tr>\n",
       "      <th>1</th>\n",
       "      <td>ahmed</td>\n",
       "      <td>21</td>\n",
       "      <td>3.5</td>\n",
       "      <td>nazimabad</td>\n",
       "    </tr>\n",
       "    <tr>\n",
       "      <th>2</th>\n",
       "      <td>ali</td>\n",
       "      <td>23</td>\n",
       "      <td>3.8</td>\n",
       "      <td>gulzar e hijri</td>\n",
       "    </tr>\n",
       "  </tbody>\n",
       "</table>\n",
       "</div>"
      ],
      "text/plain": [
       "   names  age  cgpa         address\n",
       "1  ahmed   21   3.5       nazimabad\n",
       "2    ali   23   3.8  gulzar e hijri"
      ]
     },
     "execution_count": 30,
     "metadata": {},
     "output_type": "execute_result"
    }
   ],
   "source": [
    "students[students['age']>20] #Students with age greater than 20 filtering"
   ]
  },
  {
   "cell_type": "code",
   "execution_count": 31,
   "id": "ea0fbfa9",
   "metadata": {},
   "outputs": [
    {
     "data": {
      "text/plain": [
       "0    20\n",
       "1    21\n",
       "2    23\n",
       "Name: age, dtype: int64"
      ]
     },
     "execution_count": 31,
     "metadata": {},
     "output_type": "execute_result"
    }
   ],
   "source": [
    "students.age"
   ]
  },
  {
   "cell_type": "code",
   "execution_count": 32,
   "id": "ea610773",
   "metadata": {},
   "outputs": [
    {
     "data": {
      "text/plain": [
       "0    sarim\n",
       "1    ahmed\n",
       "2      ali\n",
       "Name: names, dtype: object"
      ]
     },
     "execution_count": 32,
     "metadata": {},
     "output_type": "execute_result"
    }
   ],
   "source": [
    "students.names"
   ]
  },
  {
   "cell_type": "code",
   "execution_count": 38,
   "id": "d370649d",
   "metadata": {},
   "outputs": [],
   "source": [
    "students['semester'] =  np.arange(1,4)"
   ]
  },
  {
   "cell_type": "code",
   "execution_count": 39,
   "id": "fb33bc66",
   "metadata": {},
   "outputs": [
    {
     "data": {
      "text/html": [
       "<div>\n",
       "<style scoped>\n",
       "    .dataframe tbody tr th:only-of-type {\n",
       "        vertical-align: middle;\n",
       "    }\n",
       "\n",
       "    .dataframe tbody tr th {\n",
       "        vertical-align: top;\n",
       "    }\n",
       "\n",
       "    .dataframe thead th {\n",
       "        text-align: right;\n",
       "    }\n",
       "</style>\n",
       "<table border=\"1\" class=\"dataframe\">\n",
       "  <thead>\n",
       "    <tr style=\"text-align: right;\">\n",
       "      <th></th>\n",
       "      <th>names</th>\n",
       "      <th>age</th>\n",
       "      <th>cgpa</th>\n",
       "      <th>address</th>\n",
       "      <th>semester</th>\n",
       "    </tr>\n",
       "  </thead>\n",
       "  <tbody>\n",
       "    <tr>\n",
       "      <th>0</th>\n",
       "      <td>sarim</td>\n",
       "      <td>20</td>\n",
       "      <td>3.6</td>\n",
       "      <td>gulshan</td>\n",
       "      <td>1</td>\n",
       "    </tr>\n",
       "    <tr>\n",
       "      <th>1</th>\n",
       "      <td>ahmed</td>\n",
       "      <td>21</td>\n",
       "      <td>3.5</td>\n",
       "      <td>nazimabad</td>\n",
       "      <td>2</td>\n",
       "    </tr>\n",
       "    <tr>\n",
       "      <th>2</th>\n",
       "      <td>ali</td>\n",
       "      <td>23</td>\n",
       "      <td>3.8</td>\n",
       "      <td>gulzar e hijri</td>\n",
       "      <td>3</td>\n",
       "    </tr>\n",
       "  </tbody>\n",
       "</table>\n",
       "</div>"
      ],
      "text/plain": [
       "   names  age  cgpa         address  semester\n",
       "0  sarim   20   3.6         gulshan         1\n",
       "1  ahmed   21   3.5       nazimabad         2\n",
       "2    ali   23   3.8  gulzar e hijri         3"
      ]
     },
     "execution_count": 39,
     "metadata": {},
     "output_type": "execute_result"
    }
   ],
   "source": [
    "students"
   ]
  },
  {
   "cell_type": "code",
   "execution_count": null,
   "id": "ae26af74",
   "metadata": {},
   "outputs": [],
   "source": []
  }
 ],
 "metadata": {
  "kernelspec": {
   "display_name": "Python 3 (ipykernel)",
   "language": "python",
   "name": "python3"
  },
  "language_info": {
   "codemirror_mode": {
    "name": "ipython",
    "version": 3
   },
   "file_extension": ".py",
   "mimetype": "text/x-python",
   "name": "python",
   "nbconvert_exporter": "python",
   "pygments_lexer": "ipython3",
   "version": "3.9.13"
  }
 },
 "nbformat": 4,
 "nbformat_minor": 5
}
